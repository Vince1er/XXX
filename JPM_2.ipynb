{
 "cells": [
  {
   "cell_type": "markdown",
   "metadata": {},
   "source": [
    "This file was written and can be executed with **Anaconda/Jupyter**. From it, were generated the two\n",
    "files: **JPM_2.py** (with the Python code with comments) and the HTML file **JPM_2.html**.<br>\n",
    "\n",
    "**These 3 files share the same content**<br>\n",
    "\n",
    "One can execute JMP.py under a python interpreter with the command:<br>\n",
    "'>>> execfile('JPM_2.py')'<br>\n",
    "Nevertheless I suggest the reading of JPM_2.html in any browser if you are not using Jupyter.<br>\n",
    "The format of the Python file might be slightly less readable.<br>\n",
    "\n",
    "The content is the following.<br>\n",
    "\n",
    "It defines data for stocks and trades. They are global variables:<br>\n",
    "**stock** of type pd.DataFrame for the list of stocks<br>\n",
    "**trades, tr,...** of type pd.DataFrame for trade records<br>\n",
    "\n",
    "Then functions answering the spreadsheet questions<br>\n",
    "**1.a.i) dividend_yield(...)**<br> \n",
    "**1.a.ii) price_earnings_ratio(...)** <br>   \n",
    "**1.a.iii) add_trade(...)**<br>\n",
    "**1.a.iv) volume_weighted_stock_price(...)**<br>\n",
    "**b.** **geometric_mean(...)** and **GBCE_stock_index(...)**<br>\n",
    "These functions are **carefully commented**.<br>\n",
    "\n",
    "Numerous data sets are also defined and executed so that the author\n",
    "hopes that it can be easy for anyone to use this script for\n",
    "executing and testing. In particular the end of file contains data\n",
    "and function calls for testing.<br>\n",
    "\n",
    "Thanks for your attention.<br>\n",
    "Best regards.<br>\n",
    "Vincent Schmitt."
   ]
  },
  {
   "cell_type": "markdown",
   "metadata": {},
   "source": [
    "I chose to use Python/Pandas/Numpy for this test."
   ]
  },
  {
   "cell_type": "code",
   "execution_count": 1,
   "metadata": {},
   "outputs": [],
   "source": [
    "import pandas as pd\n",
    "import numpy as np"
   ]
  },
  {
   "cell_type": "markdown",
   "metadata": {},
   "source": [
    "Definition of a sample set of data. The same as defined in the spreadsheet."
   ]
  },
  {
   "cell_type": "code",
   "execution_count": 2,
   "metadata": {},
   "outputs": [],
   "source": [
    "stock = pd.DataFrame()"
   ]
  },
  {
   "cell_type": "code",
   "execution_count": 3,
   "metadata": {},
   "outputs": [],
   "source": [
    "data = {'TEA': ['Common', 0., np.nan, 100.],\n",
    "         'POP':['Common', 8., np.nan, 100.],\n",
    "         'ALE':['Common', 23., np.nan, 60.],\n",
    "        'GIN': ['Preferred', 8., 2., 100.],\n",
    "        'JOE': ['Common', 13., np.nan,250.]\n",
    "        }"
   ]
  },
  {
   "cell_type": "code",
   "execution_count": 4,
   "metadata": {},
   "outputs": [
    {
     "data": {
      "text/plain": [
       "{'ALE': ['Common', 23.0, nan, 60.0],\n",
       " 'GIN': ['Preferred', 8.0, 2.0, 100.0],\n",
       " 'JOE': ['Common', 13.0, nan, 250.0],\n",
       " 'POP': ['Common', 8.0, nan, 100.0],\n",
       " 'TEA': ['Common', 0.0, nan, 100.0]}"
      ]
     },
     "execution_count": 4,
     "metadata": {},
     "output_type": "execute_result"
    }
   ],
   "source": [
    "data"
   ]
  },
  {
   "cell_type": "code",
   "execution_count": 5,
   "metadata": {},
   "outputs": [],
   "source": [
    "stock = pd.DataFrame.from_dict(data, orient='index')"
   ]
  },
  {
   "cell_type": "code",
   "execution_count": 6,
   "metadata": {},
   "outputs": [],
   "source": [
    "stock.columns = ['Type','LastDiv','FixedDiv','ParV']"
   ]
  },
  {
   "cell_type": "code",
   "execution_count": 7,
   "metadata": {},
   "outputs": [
    {
     "data": {
      "text/html": [
       "<div>\n",
       "<style scoped>\n",
       "    .dataframe tbody tr th:only-of-type {\n",
       "        vertical-align: middle;\n",
       "    }\n",
       "\n",
       "    .dataframe tbody tr th {\n",
       "        vertical-align: top;\n",
       "    }\n",
       "\n",
       "    .dataframe thead th {\n",
       "        text-align: right;\n",
       "    }\n",
       "</style>\n",
       "<table border=\"1\" class=\"dataframe\">\n",
       "  <thead>\n",
       "    <tr style=\"text-align: right;\">\n",
       "      <th></th>\n",
       "      <th>Type</th>\n",
       "      <th>LastDiv</th>\n",
       "      <th>FixedDiv</th>\n",
       "      <th>ParV</th>\n",
       "    </tr>\n",
       "  </thead>\n",
       "  <tbody>\n",
       "    <tr>\n",
       "      <th>TEA</th>\n",
       "      <td>Common</td>\n",
       "      <td>0.0</td>\n",
       "      <td>NaN</td>\n",
       "      <td>100.0</td>\n",
       "    </tr>\n",
       "    <tr>\n",
       "      <th>ALE</th>\n",
       "      <td>Common</td>\n",
       "      <td>23.0</td>\n",
       "      <td>NaN</td>\n",
       "      <td>60.0</td>\n",
       "    </tr>\n",
       "    <tr>\n",
       "      <th>JOE</th>\n",
       "      <td>Common</td>\n",
       "      <td>13.0</td>\n",
       "      <td>NaN</td>\n",
       "      <td>250.0</td>\n",
       "    </tr>\n",
       "    <tr>\n",
       "      <th>POP</th>\n",
       "      <td>Common</td>\n",
       "      <td>8.0</td>\n",
       "      <td>NaN</td>\n",
       "      <td>100.0</td>\n",
       "    </tr>\n",
       "    <tr>\n",
       "      <th>GIN</th>\n",
       "      <td>Preferred</td>\n",
       "      <td>8.0</td>\n",
       "      <td>2.0</td>\n",
       "      <td>100.0</td>\n",
       "    </tr>\n",
       "  </tbody>\n",
       "</table>\n",
       "</div>"
      ],
      "text/plain": [
       "          Type  LastDiv  FixedDiv   ParV\n",
       "TEA     Common      0.0       NaN  100.0\n",
       "ALE     Common     23.0       NaN   60.0\n",
       "JOE     Common     13.0       NaN  250.0\n",
       "POP     Common      8.0       NaN  100.0\n",
       "GIN  Preferred      8.0       2.0  100.0"
      ]
     },
     "execution_count": 7,
     "metadata": {},
     "output_type": "execute_result"
    }
   ],
   "source": [
    "stock"
   ]
  },
  {
   "cell_type": "markdown",
   "metadata": {},
   "source": [
    "Above is the Pandas frame 'stock' with data similar to the spreadsheet.<br>\n",
    "**I will use this global variable in this test.**"
   ]
  },
  {
   "cell_type": "code",
   "execution_count": 8,
   "metadata": {},
   "outputs": [
    {
     "data": {
      "text/plain": [
       "Type        Common\n",
       "LastDiv         13\n",
       "FixedDiv       NaN\n",
       "ParV           250\n",
       "Name: JOE, dtype: object"
      ]
     },
     "execution_count": 8,
     "metadata": {},
     "output_type": "execute_result"
    }
   ],
   "source": [
    "stock.loc['JOE']"
   ]
  },
  {
   "cell_type": "code",
   "execution_count": 9,
   "metadata": {},
   "outputs": [
    {
     "data": {
      "text/plain": [
       "True"
      ]
     },
     "execution_count": 9,
     "metadata": {},
     "output_type": "execute_result"
    }
   ],
   "source": [
    "'JOE' in stock.index"
   ]
  },
  {
   "cell_type": "code",
   "execution_count": 10,
   "metadata": {},
   "outputs": [],
   "source": [
    "market_price = 12.00"
   ]
  },
  {
   "cell_type": "code",
   "execution_count": 11,
   "metadata": {},
   "outputs": [
    {
     "data": {
      "text/plain": [
       "1.0833333333333333"
      ]
     },
     "execution_count": 11,
     "metadata": {},
     "output_type": "execute_result"
    }
   ],
   "source": [
    "stock.loc['JOE']['LastDiv']/market_price"
   ]
  },
  {
   "cell_type": "markdown",
   "metadata": {},
   "source": [
    "Below a first version of the computation of the dividend yield. It does note take yet into\n",
    "account the \"preferred\" shares."
   ]
  },
  {
   "cell_type": "code",
   "execution_count": 12,
   "metadata": {},
   "outputs": [],
   "source": [
    "def dividend_yield_0(stock_index, market_price=None):\n",
    "    dy = (stock.loc[stock_index]['LastDiv'])/market_price\n",
    "    return dy"
   ]
  },
  {
   "cell_type": "code",
   "execution_count": 13,
   "metadata": {},
   "outputs": [
    {
     "data": {
      "text/plain": [
       "1.0833333333333333"
      ]
     },
     "execution_count": 13,
     "metadata": {},
     "output_type": "execute_result"
    }
   ],
   "source": [
    "dividend_yield_0('JOE',12.)"
   ]
  },
  {
   "cell_type": "code",
   "execution_count": 14,
   "metadata": {},
   "outputs": [
    {
     "data": {
      "text/plain": [
       "0.21666666666666667"
      ]
     },
     "execution_count": 14,
     "metadata": {},
     "output_type": "execute_result"
    }
   ],
   "source": [
    "dividend_yield_0('JOE',60.)"
   ]
  },
  {
   "cell_type": "markdown",
   "metadata": {},
   "source": [
    "**1.a.i** Below is the definitive version of the function dividend_yield computing the dividend yield.<br>\n",
    "Arguments are:<br>\n",
    "stock_index: the key index for the stock. This stock should exist in the global variable 'stock'.<br> \n",
    "stock_index corresponds there to a unique row, i.e. stock_index is a key.<br>\n",
    "market_price: a market price, that should be a strictly positive number.<br>\n",
    "\n",
    "The stock list is the global variable 'stock'.<br>\n",
    "There are basic tests on arguments (type and range). If an argument is not valid, a vualue NAN\n",
    "is returned and a warning message is issued."
   ]
  },
  {
   "cell_type": "code",
   "execution_count": 15,
   "metadata": {},
   "outputs": [],
   "source": [
    "# import to test number types\n",
    "import numbers\n",
    "#\n",
    "def dividend_yield(stock_index, market_price):\n",
    "    # basic tests on arguments\n",
    "    # existence of the stock with index stock_index\n",
    "    # market_price should be a number and strictly positive \n",
    "    if stock_index not in stock.index:\n",
    "        print stock_index + ' not an existing stock index'\n",
    "        return np.nan\n",
    "    if not isinstance(market_price, numbers.Number):\n",
    "        print market_price\n",
    "        print 'market_price not a number'\n",
    "        return np.nan\n",
    "    if market_price <= 0:\n",
    "        print market_price\n",
    "        print 'market_price not a strictly positive number'\n",
    "        return np.nan\n",
    "    # \n",
    "    #\n",
    "    st = stock.loc[stock_index]\n",
    "    if st['Type'] == 'Preferred':\n",
    "        return (st['FixedDiv']/100.)*st['ParV']/market_price\n",
    "    return st['LastDiv']/market_price "
   ]
  },
  {
   "cell_type": "code",
   "execution_count": 16,
   "metadata": {},
   "outputs": [
    {
     "data": {
      "text/plain": [
       "0.5"
      ]
     },
     "execution_count": 16,
     "metadata": {},
     "output_type": "execute_result"
    }
   ],
   "source": [
    "dividend_yield('JOE',26.)"
   ]
  },
  {
   "cell_type": "code",
   "execution_count": 17,
   "metadata": {},
   "outputs": [
    {
     "data": {
      "text/plain": [
       "0.02"
      ]
     },
     "execution_count": 17,
     "metadata": {},
     "output_type": "execute_result"
    }
   ],
   "source": [
    "dividend_yield('GIN',100.)"
   ]
  },
  {
   "cell_type": "code",
   "execution_count": 18,
   "metadata": {},
   "outputs": [
    {
     "name": "stdout",
     "output_type": "stream",
     "text": [
      "XXX not an existing stock index\n"
     ]
    },
    {
     "data": {
      "text/plain": [
       "nan"
      ]
     },
     "execution_count": 18,
     "metadata": {},
     "output_type": "execute_result"
    }
   ],
   "source": [
    "dividend_yield('XXX',100.)"
   ]
  },
  {
   "cell_type": "code",
   "execution_count": 19,
   "metadata": {},
   "outputs": [
    {
     "name": "stdout",
     "output_type": "stream",
     "text": [
      "aaa\n",
      "market_price not a number\n"
     ]
    },
    {
     "data": {
      "text/plain": [
       "nan"
      ]
     },
     "execution_count": 19,
     "metadata": {},
     "output_type": "execute_result"
    }
   ],
   "source": [
    "dividend_yield('GIN','aaa')"
   ]
  },
  {
   "cell_type": "code",
   "execution_count": 20,
   "metadata": {},
   "outputs": [
    {
     "data": {
      "text/plain": [
       "0.0"
      ]
     },
     "execution_count": 20,
     "metadata": {},
     "output_type": "execute_result"
    }
   ],
   "source": [
    "dividend_yield('TEA',100.)"
   ]
  },
  {
   "cell_type": "markdown",
   "metadata": {},
   "source": [
    "**1.a.ii.** I understand from the given definitions that the P/E ratio is just **the inverse of the dividend yield**. (Note: I am used to the definition P/E ratio = earnings per share/price per share, not so much dividend/price)<br>\n",
    "\n",
    "Below is the function computing the P/E ratio.<br>\n",
    "It simply returns the inverse of the dividend yield computed in **1.a.i**. Arguments are the same as in **1.a.i**.<br>\n",
    "A NAN value is returned if its arguments are invalid, i.e. yielding a zero or undefided dividend yield."
   ]
  },
  {
   "cell_type": "code",
   "execution_count": 21,
   "metadata": {},
   "outputs": [],
   "source": [
    "def price_earnings_ratio(stock_index, market_price):\n",
    "    dy = dividend_yield(stock_index, market_price)\n",
    "    # very basic tests on the value returned, that could be improved if necessary! \n",
    "    if dy == np.nan:\n",
    "        return np.nan\n",
    "    if dy == 0:\n",
    "        return np.nan\n",
    "    return 1/dy"
   ]
  },
  {
   "cell_type": "code",
   "execution_count": 22,
   "metadata": {},
   "outputs": [
    {
     "data": {
      "text/plain": [
       "2.0"
      ]
     },
     "execution_count": 22,
     "metadata": {},
     "output_type": "execute_result"
    }
   ],
   "source": [
    "price_earnings_ratio('JOE',26.)"
   ]
  },
  {
   "cell_type": "code",
   "execution_count": 23,
   "metadata": {},
   "outputs": [
    {
     "data": {
      "text/plain": [
       "50.0"
      ]
     },
     "execution_count": 23,
     "metadata": {},
     "output_type": "execute_result"
    }
   ],
   "source": [
    "price_earnings_ratio('GIN',100.)"
   ]
  },
  {
   "cell_type": "code",
   "execution_count": 24,
   "metadata": {},
   "outputs": [
    {
     "data": {
      "text/plain": [
       "nan"
      ]
     },
     "execution_count": 24,
     "metadata": {},
     "output_type": "execute_result"
    }
   ],
   "source": [
    "price_earnings_ratio('TEA',100.)"
   ]
  },
  {
   "cell_type": "code",
   "execution_count": 25,
   "metadata": {},
   "outputs": [
    {
     "name": "stdout",
     "output_type": "stream",
     "text": [
      "XXX not an existing stock index\n"
     ]
    },
    {
     "data": {
      "text/plain": [
       "nan"
      ]
     },
     "execution_count": 25,
     "metadata": {},
     "output_type": "execute_result"
    }
   ],
   "source": [
    "price_earnings_ratio('XXX',100.)"
   ]
  },
  {
   "cell_type": "markdown",
   "metadata": {},
   "source": [
    "For the next question, I define an array (a \"Pandas Frame\") storing the trade records. Then I am using \n",
    "it as a global variable."
   ]
  },
  {
   "cell_type": "code",
   "execution_count": 26,
   "metadata": {},
   "outputs": [],
   "source": [
    "trades = pd.DataFrame(columns = ['date','stock_index','qty','buy/sell','price'])"
   ]
  },
  {
   "cell_type": "code",
   "execution_count": 27,
   "metadata": {},
   "outputs": [
    {
     "data": {
      "text/html": [
       "<div>\n",
       "<style scoped>\n",
       "    .dataframe tbody tr th:only-of-type {\n",
       "        vertical-align: middle;\n",
       "    }\n",
       "\n",
       "    .dataframe tbody tr th {\n",
       "        vertical-align: top;\n",
       "    }\n",
       "\n",
       "    .dataframe thead th {\n",
       "        text-align: right;\n",
       "    }\n",
       "</style>\n",
       "<table border=\"1\" class=\"dataframe\">\n",
       "  <thead>\n",
       "    <tr style=\"text-align: right;\">\n",
       "      <th></th>\n",
       "      <th>date</th>\n",
       "      <th>stock_index</th>\n",
       "      <th>qty</th>\n",
       "      <th>buy/sell</th>\n",
       "      <th>price</th>\n",
       "    </tr>\n",
       "  </thead>\n",
       "  <tbody>\n",
       "  </tbody>\n",
       "</table>\n",
       "</div>"
      ],
      "text/plain": [
       "Empty DataFrame\n",
       "Columns: [date, stock_index, qty, buy/sell, price]\n",
       "Index: []"
      ]
     },
     "execution_count": 27,
     "metadata": {},
     "output_type": "execute_result"
    }
   ],
   "source": [
    "trades"
   ]
  },
  {
   "cell_type": "markdown",
   "metadata": {},
   "source": [
    "I am using Pandas Timestamp for timestamping."
   ]
  },
  {
   "cell_type": "code",
   "execution_count": 28,
   "metadata": {},
   "outputs": [
    {
     "data": {
      "text/plain": [
       "Timestamp('2018-05-27 18:19:59.277651')"
      ]
     },
     "execution_count": 28,
     "metadata": {},
     "output_type": "execute_result"
    }
   ],
   "source": [
    "pd.Timestamp.now()"
   ]
  },
  {
   "cell_type": "code",
   "execution_count": 29,
   "metadata": {},
   "outputs": [
    {
     "data": {
      "text/plain": [
       "Timestamp('2017-01-01 12:59:03')"
      ]
     },
     "execution_count": 29,
     "metadata": {},
     "output_type": "execute_result"
    }
   ],
   "source": [
    "pd.Timestamp(year=2017, month=1, day=1, hour=12, minute=59, second=3)"
   ]
  },
  {
   "cell_type": "markdown",
   "metadata": {},
   "source": [
    "**1.a.iii.** Below is the function adding a trade record into a list.<br>\n",
    "\n",
    "It takes as input:<br>\n",
    "the list of trades t that is a Pandas Frame as defined before<br>\n",
    "the list of arguments corresponding to a peculiar trade:<br>\n",
    "stock_index: index of the stock traded, it should exist as a key in stock<br>\n",
    "qty: quantity, an integer<br>\n",
    "bs_ind: buy/sell index, values should be 'buy'/'sell'(it could have been a boolean!)<br>\n",
    "price: price per stock, a positive number<br>\n",
    "date: the date of the trade, should be a pd.Timestamp. **By default it is set to the current date**.<br>\n",
    "\n",
    "It returns the list t in which a new trade has been recorded.<br>\n",
    "\n",
    "**Beware: for simplicity, the implementation below does not check the argument types nor their consistency.** \n",
    "This could be done if necessary."
   ]
  },
  {
   "cell_type": "code",
   "execution_count": 30,
   "metadata": {},
   "outputs": [],
   "source": [
    "def add_trade(t, stock_index, qty, bs_ind, price, date=None):\n",
    "    if (date == None):\n",
    "        date = pd.Timestamp.now()\n",
    "    t = t.append({'date':date, 'stock_index':stock_index,'qty':qty, \n",
    "                   'buy/sell':bs_ind, 'price':price},ignore_index=True)\n",
    "    return t"
   ]
  },
  {
   "cell_type": "code",
   "execution_count": 31,
   "metadata": {},
   "outputs": [],
   "source": [
    "tr = trades"
   ]
  },
  {
   "cell_type": "code",
   "execution_count": 32,
   "metadata": {},
   "outputs": [
    {
     "data": {
      "text/html": [
       "<div>\n",
       "<style scoped>\n",
       "    .dataframe tbody tr th:only-of-type {\n",
       "        vertical-align: middle;\n",
       "    }\n",
       "\n",
       "    .dataframe tbody tr th {\n",
       "        vertical-align: top;\n",
       "    }\n",
       "\n",
       "    .dataframe thead th {\n",
       "        text-align: right;\n",
       "    }\n",
       "</style>\n",
       "<table border=\"1\" class=\"dataframe\">\n",
       "  <thead>\n",
       "    <tr style=\"text-align: right;\">\n",
       "      <th></th>\n",
       "      <th>date</th>\n",
       "      <th>stock_index</th>\n",
       "      <th>qty</th>\n",
       "      <th>buy/sell</th>\n",
       "      <th>price</th>\n",
       "    </tr>\n",
       "  </thead>\n",
       "  <tbody>\n",
       "  </tbody>\n",
       "</table>\n",
       "</div>"
      ],
      "text/plain": [
       "Empty DataFrame\n",
       "Columns: [date, stock_index, qty, buy/sell, price]\n",
       "Index: []"
      ]
     },
     "execution_count": 32,
     "metadata": {},
     "output_type": "execute_result"
    }
   ],
   "source": [
    "tr"
   ]
  },
  {
   "cell_type": "code",
   "execution_count": 33,
   "metadata": {},
   "outputs": [],
   "source": [
    "tr = add_trade(tr, 'JOE', 100, 'sell', 150.)"
   ]
  },
  {
   "cell_type": "code",
   "execution_count": 34,
   "metadata": {},
   "outputs": [],
   "source": [
    "tr = add_trade(tr, 'JOE', 100, 'sell', 250.)\n",
    "tr = add_trade(tr, 'JOE', 100, 'buy', 250.)\n",
    "tr = add_trade(tr, 'GIN', 200, 'buy', 50.)\n",
    "tr = add_trade(tr, 'ALE', 200, 'buy', 150.)\n",
    "date = pd.Timestamp(year=2017, month=1, day=1, hour=12, minute=59, second=3)\n",
    "tr = add_trade(tr, 'TEA', 200, 'buy', 100., date)\n",
    "tr = add_trade(tr, 'GIN', 200, 'sell', 75.)\n",
    "tr = add_trade(tr, 'TEA', 300, 'sell', 125.)\n",
    "tr = add_trade(tr, 'POP', 300, 'sell', 300.)\n",
    "tr = add_trade(tr, 'ALE', 200, 'sell', 150., \n",
    "               pd.Timestamp(year=2017, month=1, day=1, hour=12, minute=59, second=3))\n",
    "tr = add_trade(tr, 'ALE', 150, 'sell', 50.)\n",
    "tr = add_trade(tr, 'ALE', 300, 'sell', 100.)"
   ]
  },
  {
   "cell_type": "code",
   "execution_count": 35,
   "metadata": {},
   "outputs": [
    {
     "data": {
      "text/html": [
       "<div>\n",
       "<style scoped>\n",
       "    .dataframe tbody tr th:only-of-type {\n",
       "        vertical-align: middle;\n",
       "    }\n",
       "\n",
       "    .dataframe tbody tr th {\n",
       "        vertical-align: top;\n",
       "    }\n",
       "\n",
       "    .dataframe thead th {\n",
       "        text-align: right;\n",
       "    }\n",
       "</style>\n",
       "<table border=\"1\" class=\"dataframe\">\n",
       "  <thead>\n",
       "    <tr style=\"text-align: right;\">\n",
       "      <th></th>\n",
       "      <th>date</th>\n",
       "      <th>stock_index</th>\n",
       "      <th>qty</th>\n",
       "      <th>buy/sell</th>\n",
       "      <th>price</th>\n",
       "    </tr>\n",
       "  </thead>\n",
       "  <tbody>\n",
       "    <tr>\n",
       "      <th>0</th>\n",
       "      <td>2018-05-27 18:19:59.384559</td>\n",
       "      <td>JOE</td>\n",
       "      <td>100</td>\n",
       "      <td>sell</td>\n",
       "      <td>150.0</td>\n",
       "    </tr>\n",
       "    <tr>\n",
       "      <th>1</th>\n",
       "      <td>2018-05-27 18:19:59.414747</td>\n",
       "      <td>JOE</td>\n",
       "      <td>100</td>\n",
       "      <td>sell</td>\n",
       "      <td>250.0</td>\n",
       "    </tr>\n",
       "    <tr>\n",
       "      <th>2</th>\n",
       "      <td>2018-05-27 18:19:59.427118</td>\n",
       "      <td>JOE</td>\n",
       "      <td>100</td>\n",
       "      <td>buy</td>\n",
       "      <td>250.0</td>\n",
       "    </tr>\n",
       "    <tr>\n",
       "      <th>3</th>\n",
       "      <td>2018-05-27 18:19:59.433387</td>\n",
       "      <td>GIN</td>\n",
       "      <td>200</td>\n",
       "      <td>buy</td>\n",
       "      <td>50.0</td>\n",
       "    </tr>\n",
       "    <tr>\n",
       "      <th>4</th>\n",
       "      <td>2018-05-27 18:19:59.438893</td>\n",
       "      <td>ALE</td>\n",
       "      <td>200</td>\n",
       "      <td>buy</td>\n",
       "      <td>150.0</td>\n",
       "    </tr>\n",
       "    <tr>\n",
       "      <th>5</th>\n",
       "      <td>2017-01-01 12:59:03.000000</td>\n",
       "      <td>TEA</td>\n",
       "      <td>200</td>\n",
       "      <td>buy</td>\n",
       "      <td>100.0</td>\n",
       "    </tr>\n",
       "    <tr>\n",
       "      <th>6</th>\n",
       "      <td>2018-05-27 18:19:59.450219</td>\n",
       "      <td>GIN</td>\n",
       "      <td>200</td>\n",
       "      <td>sell</td>\n",
       "      <td>75.0</td>\n",
       "    </tr>\n",
       "    <tr>\n",
       "      <th>7</th>\n",
       "      <td>2018-05-27 18:19:59.459214</td>\n",
       "      <td>TEA</td>\n",
       "      <td>300</td>\n",
       "      <td>sell</td>\n",
       "      <td>125.0</td>\n",
       "    </tr>\n",
       "    <tr>\n",
       "      <th>8</th>\n",
       "      <td>2018-05-27 18:19:59.472929</td>\n",
       "      <td>POP</td>\n",
       "      <td>300</td>\n",
       "      <td>sell</td>\n",
       "      <td>300.0</td>\n",
       "    </tr>\n",
       "    <tr>\n",
       "      <th>9</th>\n",
       "      <td>2017-01-01 12:59:03.000000</td>\n",
       "      <td>ALE</td>\n",
       "      <td>200</td>\n",
       "      <td>sell</td>\n",
       "      <td>150.0</td>\n",
       "    </tr>\n",
       "    <tr>\n",
       "      <th>10</th>\n",
       "      <td>2018-05-27 18:19:59.489029</td>\n",
       "      <td>ALE</td>\n",
       "      <td>150</td>\n",
       "      <td>sell</td>\n",
       "      <td>50.0</td>\n",
       "    </tr>\n",
       "    <tr>\n",
       "      <th>11</th>\n",
       "      <td>2018-05-27 18:19:59.493791</td>\n",
       "      <td>ALE</td>\n",
       "      <td>300</td>\n",
       "      <td>sell</td>\n",
       "      <td>100.0</td>\n",
       "    </tr>\n",
       "  </tbody>\n",
       "</table>\n",
       "</div>"
      ],
      "text/plain": [
       "                         date stock_index  qty buy/sell  price\n",
       "0  2018-05-27 18:19:59.384559         JOE  100     sell  150.0\n",
       "1  2018-05-27 18:19:59.414747         JOE  100     sell  250.0\n",
       "2  2018-05-27 18:19:59.427118         JOE  100      buy  250.0\n",
       "3  2018-05-27 18:19:59.433387         GIN  200      buy   50.0\n",
       "4  2018-05-27 18:19:59.438893         ALE  200      buy  150.0\n",
       "5  2017-01-01 12:59:03.000000         TEA  200      buy  100.0\n",
       "6  2018-05-27 18:19:59.450219         GIN  200     sell   75.0\n",
       "7  2018-05-27 18:19:59.459214         TEA  300     sell  125.0\n",
       "8  2018-05-27 18:19:59.472929         POP  300     sell  300.0\n",
       "9  2017-01-01 12:59:03.000000         ALE  200     sell  150.0\n",
       "10 2018-05-27 18:19:59.489029         ALE  150     sell   50.0\n",
       "11 2018-05-27 18:19:59.493791         ALE  300     sell  100.0"
      ]
     },
     "execution_count": 35,
     "metadata": {},
     "output_type": "execute_result"
    }
   ],
   "source": [
    "tr"
   ]
  },
  {
   "cell_type": "markdown",
   "metadata": {},
   "source": [
    "Question **1.a.iv**.<br>\n",
    "The stock considered should have been traded within the last 15 minutes.\n",
    "In Pandas differences of time stamps of type pd.Timestamp are of type pd.Timedelta."
   ]
  },
  {
   "cell_type": "code",
   "execution_count": 36,
   "metadata": {},
   "outputs": [],
   "source": [
    "time_now = pd.Timestamp.now()"
   ]
  },
  {
   "cell_type": "code",
   "execution_count": 37,
   "metadata": {},
   "outputs": [],
   "source": [
    "min_delta = '360 min'"
   ]
  },
  {
   "cell_type": "code",
   "execution_count": 38,
   "metadata": {},
   "outputs": [],
   "source": [
    "time_delta = pd.Timedelta(min_delta)"
   ]
  },
  {
   "cell_type": "code",
   "execution_count": 39,
   "metadata": {},
   "outputs": [
    {
     "data": {
      "text/plain": [
       "Timedelta('0 days 06:00:00')"
      ]
     },
     "execution_count": 39,
     "metadata": {},
     "output_type": "execute_result"
    }
   ],
   "source": [
    "time_delta"
   ]
  },
  {
   "cell_type": "code",
   "execution_count": 40,
   "metadata": {},
   "outputs": [
    {
     "data": {
      "text/plain": [
       "0    2018-05-27 18:19:59.384559\n",
       "1    2018-05-27 18:19:59.414747\n",
       "2    2018-05-27 18:19:59.427118\n",
       "3    2018-05-27 18:19:59.433387\n",
       "4    2018-05-27 18:19:59.438893\n",
       "5    2017-01-01 12:59:03.000000\n",
       "6    2018-05-27 18:19:59.450219\n",
       "7    2018-05-27 18:19:59.459214\n",
       "8    2018-05-27 18:19:59.472929\n",
       "9    2017-01-01 12:59:03.000000\n",
       "10   2018-05-27 18:19:59.489029\n",
       "11   2018-05-27 18:19:59.493791\n",
       "Name: date, dtype: datetime64[ns]"
      ]
     },
     "execution_count": 40,
     "metadata": {},
     "output_type": "execute_result"
    }
   ],
   "source": [
    "tr.date"
   ]
  },
  {
   "cell_type": "code",
   "execution_count": 41,
   "metadata": {},
   "outputs": [],
   "source": [
    "lt_recent= tr[( time_now - tr.date < time_delta ) & (tr.stock_index == 'JOE')]"
   ]
  },
  {
   "cell_type": "code",
   "execution_count": 42,
   "metadata": {},
   "outputs": [
    {
     "data": {
      "text/html": [
       "<div>\n",
       "<style scoped>\n",
       "    .dataframe tbody tr th:only-of-type {\n",
       "        vertical-align: middle;\n",
       "    }\n",
       "\n",
       "    .dataframe tbody tr th {\n",
       "        vertical-align: top;\n",
       "    }\n",
       "\n",
       "    .dataframe thead th {\n",
       "        text-align: right;\n",
       "    }\n",
       "</style>\n",
       "<table border=\"1\" class=\"dataframe\">\n",
       "  <thead>\n",
       "    <tr style=\"text-align: right;\">\n",
       "      <th></th>\n",
       "      <th>date</th>\n",
       "      <th>stock_index</th>\n",
       "      <th>qty</th>\n",
       "      <th>buy/sell</th>\n",
       "      <th>price</th>\n",
       "    </tr>\n",
       "  </thead>\n",
       "  <tbody>\n",
       "    <tr>\n",
       "      <th>0</th>\n",
       "      <td>2018-05-27 18:19:59.384559</td>\n",
       "      <td>JOE</td>\n",
       "      <td>100</td>\n",
       "      <td>sell</td>\n",
       "      <td>150.0</td>\n",
       "    </tr>\n",
       "    <tr>\n",
       "      <th>1</th>\n",
       "      <td>2018-05-27 18:19:59.414747</td>\n",
       "      <td>JOE</td>\n",
       "      <td>100</td>\n",
       "      <td>sell</td>\n",
       "      <td>250.0</td>\n",
       "    </tr>\n",
       "    <tr>\n",
       "      <th>2</th>\n",
       "      <td>2018-05-27 18:19:59.427118</td>\n",
       "      <td>JOE</td>\n",
       "      <td>100</td>\n",
       "      <td>buy</td>\n",
       "      <td>250.0</td>\n",
       "    </tr>\n",
       "  </tbody>\n",
       "</table>\n",
       "</div>"
      ],
      "text/plain": [
       "                        date stock_index  qty buy/sell  price\n",
       "0 2018-05-27 18:19:59.384559         JOE  100     sell  150.0\n",
       "1 2018-05-27 18:19:59.414747         JOE  100     sell  250.0\n",
       "2 2018-05-27 18:19:59.427118         JOE  100      buy  250.0"
      ]
     },
     "execution_count": 42,
     "metadata": {},
     "output_type": "execute_result"
    }
   ],
   "source": [
    "lt_recent"
   ]
  },
  {
   "cell_type": "markdown",
   "metadata": {},
   "source": [
    "**1.a.iv.** Computing the Volume Weighted Stock Price for a particular stock.<br>\n",
    "According to the given formula, I understand that **the VWSP is the average trading price of a given stock within the last 15 minutes**<br>\n",
    "\n",
    "The function below computes this.<br>\n",
    "\n",
    "It takes as arguments:<br>\n",
    "the trading list: tr_l (a Pandas Frame as defined above)<br>\n",
    "the stock index: st_ind<br>\n",
    "min_delta: a parameter for the time delay for considering trades in the list, **by default: 15 minutes**. \n",
    "It is a string that should denote a delay as requested by the constructor pd.Timedelta.<br>\n",
    "\n",
    "It returns the average trading price of the stock within the last minutes as specified by min_delta.<br>\n",
    "If there were no trades for that stock a NAN value is returned.<br>"
   ]
  },
  {
   "cell_type": "code",
   "execution_count": 43,
   "metadata": {},
   "outputs": [],
   "source": [
    "def  volume_weighted_stock_price(tr_l , st_ind, min_delta='15 min'):\n",
    "    time_now = pd.Timestamp.now()\n",
    "    # print time_now\n",
    "    time_delta = pd.Timedelta(min_delta)\n",
    "    # print time_delta\n",
    "    t_rec = tr_l[(time_now - tr_l.date < time_delta) & (tr_l.stock_index == st_ind)]\n",
    "    #print t_rec\n",
    "    if t_rec.empty:\n",
    "        #print 'zero'\n",
    "        return np.nan\n",
    "    num = (t_rec['price']*t_rec['qty']).sum()\n",
    "    # print num\n",
    "    den = t_rec['qty'].sum()\n",
    "    # print den\n",
    "    if den == 0:\n",
    "        #print 'denominator null'\n",
    "        return np.nan\n",
    "    vwsp = num/den\n",
    "    return vwsp"
   ]
  },
  {
   "cell_type": "code",
   "execution_count": 44,
   "metadata": {},
   "outputs": [
    {
     "data": {
      "text/plain": [
       "216.66666666666666"
      ]
     },
     "execution_count": 44,
     "metadata": {},
     "output_type": "execute_result"
    }
   ],
   "source": [
    "volume_weighted_stock_price(tr , 'JOE')"
   ]
  },
  {
   "cell_type": "code",
   "execution_count": 45,
   "metadata": {},
   "outputs": [
    {
     "data": {
      "text/plain": [
       "216.66666666666666"
      ]
     },
     "execution_count": 45,
     "metadata": {},
     "output_type": "execute_result"
    }
   ],
   "source": [
    "volume_weighted_stock_price(tr , 'JOE', min_delta='360 min')"
   ]
  },
  {
   "cell_type": "code",
   "execution_count": 46,
   "metadata": {},
   "outputs": [
    {
     "data": {
      "text/plain": [
       "103.84615384615384"
      ]
     },
     "execution_count": 46,
     "metadata": {},
     "output_type": "execute_result"
    }
   ],
   "source": [
    "volume_weighted_stock_price(tr , 'ALE', min_delta='360 min')"
   ]
  },
  {
   "cell_type": "markdown",
   "metadata": {},
   "source": [
    "**Question b.**"
   ]
  },
  {
   "cell_type": "markdown",
   "metadata": {},
   "source": [
    "For the geometric average I did the average of the logarithms and applied \n",
    "the exponentiation. \n",
    "If the number of values in the list is 0 the value returned is 1. \n",
    "Values should be strictly positive."
   ]
  },
  {
   "cell_type": "code",
   "execution_count": 47,
   "metadata": {},
   "outputs": [],
   "source": [
    "import math\n",
    "def  geometric_mean(arr):\n",
    "    gm = 0\n",
    "    n = 0\n",
    "    for pr in arr:\n",
    "        n = n + 1\n",
    "        gm = gm + math.log(pr)\n",
    "    if (n == 0):\n",
    "        return 1.     \n",
    "    return math.exp(gm/n)           "
   ]
  },
  {
   "cell_type": "code",
   "execution_count": 48,
   "metadata": {},
   "outputs": [
    {
     "data": {
      "text/plain": [
       "1.0"
      ]
     },
     "execution_count": 48,
     "metadata": {},
     "output_type": "execute_result"
    }
   ],
   "source": [
    "geometric_mean([1])"
   ]
  },
  {
   "cell_type": "code",
   "execution_count": 49,
   "metadata": {},
   "outputs": [
    {
     "data": {
      "text/plain": [
       "1.0"
      ]
     },
     "execution_count": 49,
     "metadata": {},
     "output_type": "execute_result"
    }
   ],
   "source": [
    "geometric_mean([])"
   ]
  },
  {
   "cell_type": "code",
   "execution_count": 50,
   "metadata": {},
   "outputs": [
    {
     "data": {
      "text/plain": [
       "1.414213562373095"
      ]
     },
     "execution_count": 50,
     "metadata": {},
     "output_type": "execute_result"
    }
   ],
   "source": [
    "geometric_mean([1,2])"
   ]
  },
  {
   "cell_type": "code",
   "execution_count": 51,
   "metadata": {},
   "outputs": [
    {
     "data": {
      "text/plain": [
       "2.0"
      ]
     },
     "execution_count": 51,
     "metadata": {},
     "output_type": "execute_result"
    }
   ],
   "source": [
    "geometric_mean([1,2,4])"
   ]
  },
  {
   "cell_type": "code",
   "execution_count": 52,
   "metadata": {},
   "outputs": [
    {
     "data": {
      "text/plain": [
       "41.7407037574964"
      ]
     },
     "execution_count": 52,
     "metadata": {},
     "output_type": "execute_result"
    }
   ],
   "source": [
    "geometric_mean([34., 56., 76., 23., 45., 22.,67.])"
   ]
  },
  {
   "cell_type": "markdown",
   "metadata": {},
   "source": [
    "It took me some time to understand that GBCE meant \"Global Beverage Corporation Exchange\"! What is the \"BGCE All Share Index\" then? Is that just the geometric mean price for all GBCE stocks? This is what is computed next: **the geometric mean of stock prices given by the computation a.iv.**.<br>\n",
    "\n",
    "Note: I understand that log is the good measure of price variations but considering the average **per stock** looks a strange index to me. But I am not sure that I got it correctly."
   ]
  },
  {
   "cell_type": "code",
   "execution_count": 53,
   "metadata": {},
   "outputs": [
    {
     "data": {
      "text/plain": [
       "Index([u'TEA', u'ALE', u'JOE', u'POP', u'GIN'], dtype='object')"
      ]
     },
     "execution_count": 53,
     "metadata": {},
     "output_type": "execute_result"
    }
   ],
   "source": [
    "stock.index"
   ]
  },
  {
   "cell_type": "code",
   "execution_count": 54,
   "metadata": {},
   "outputs": [],
   "source": [
    "stock_indexes = stock.index.values"
   ]
  },
  {
   "cell_type": "code",
   "execution_count": 55,
   "metadata": {},
   "outputs": [
    {
     "data": {
      "text/plain": [
       "array(['TEA', 'ALE', 'JOE', 'POP', 'GIN'], dtype=object)"
      ]
     },
     "execution_count": 55,
     "metadata": {},
     "output_type": "execute_result"
    }
   ],
   "source": [
    "stock_indexes"
   ]
  },
  {
   "cell_type": "code",
   "execution_count": 56,
   "metadata": {},
   "outputs": [
    {
     "data": {
      "text/html": [
       "<div>\n",
       "<style scoped>\n",
       "    .dataframe tbody tr th:only-of-type {\n",
       "        vertical-align: middle;\n",
       "    }\n",
       "\n",
       "    .dataframe tbody tr th {\n",
       "        vertical-align: top;\n",
       "    }\n",
       "\n",
       "    .dataframe thead th {\n",
       "        text-align: right;\n",
       "    }\n",
       "</style>\n",
       "<table border=\"1\" class=\"dataframe\">\n",
       "  <thead>\n",
       "    <tr style=\"text-align: right;\">\n",
       "      <th></th>\n",
       "      <th>date</th>\n",
       "      <th>stock_index</th>\n",
       "      <th>qty</th>\n",
       "      <th>buy/sell</th>\n",
       "      <th>price</th>\n",
       "    </tr>\n",
       "  </thead>\n",
       "  <tbody>\n",
       "    <tr>\n",
       "      <th>0</th>\n",
       "      <td>2018-05-27 18:19:59.384559</td>\n",
       "      <td>JOE</td>\n",
       "      <td>100</td>\n",
       "      <td>sell</td>\n",
       "      <td>150.0</td>\n",
       "    </tr>\n",
       "    <tr>\n",
       "      <th>1</th>\n",
       "      <td>2018-05-27 18:19:59.414747</td>\n",
       "      <td>JOE</td>\n",
       "      <td>100</td>\n",
       "      <td>sell</td>\n",
       "      <td>250.0</td>\n",
       "    </tr>\n",
       "    <tr>\n",
       "      <th>2</th>\n",
       "      <td>2018-05-27 18:19:59.427118</td>\n",
       "      <td>JOE</td>\n",
       "      <td>100</td>\n",
       "      <td>buy</td>\n",
       "      <td>250.0</td>\n",
       "    </tr>\n",
       "    <tr>\n",
       "      <th>3</th>\n",
       "      <td>2018-05-27 18:19:59.433387</td>\n",
       "      <td>GIN</td>\n",
       "      <td>200</td>\n",
       "      <td>buy</td>\n",
       "      <td>50.0</td>\n",
       "    </tr>\n",
       "    <tr>\n",
       "      <th>4</th>\n",
       "      <td>2018-05-27 18:19:59.438893</td>\n",
       "      <td>ALE</td>\n",
       "      <td>200</td>\n",
       "      <td>buy</td>\n",
       "      <td>150.0</td>\n",
       "    </tr>\n",
       "    <tr>\n",
       "      <th>5</th>\n",
       "      <td>2017-01-01 12:59:03.000000</td>\n",
       "      <td>TEA</td>\n",
       "      <td>200</td>\n",
       "      <td>buy</td>\n",
       "      <td>100.0</td>\n",
       "    </tr>\n",
       "    <tr>\n",
       "      <th>6</th>\n",
       "      <td>2018-05-27 18:19:59.450219</td>\n",
       "      <td>GIN</td>\n",
       "      <td>200</td>\n",
       "      <td>sell</td>\n",
       "      <td>75.0</td>\n",
       "    </tr>\n",
       "    <tr>\n",
       "      <th>7</th>\n",
       "      <td>2018-05-27 18:19:59.459214</td>\n",
       "      <td>TEA</td>\n",
       "      <td>300</td>\n",
       "      <td>sell</td>\n",
       "      <td>125.0</td>\n",
       "    </tr>\n",
       "    <tr>\n",
       "      <th>8</th>\n",
       "      <td>2018-05-27 18:19:59.472929</td>\n",
       "      <td>POP</td>\n",
       "      <td>300</td>\n",
       "      <td>sell</td>\n",
       "      <td>300.0</td>\n",
       "    </tr>\n",
       "    <tr>\n",
       "      <th>9</th>\n",
       "      <td>2017-01-01 12:59:03.000000</td>\n",
       "      <td>ALE</td>\n",
       "      <td>200</td>\n",
       "      <td>sell</td>\n",
       "      <td>150.0</td>\n",
       "    </tr>\n",
       "    <tr>\n",
       "      <th>10</th>\n",
       "      <td>2018-05-27 18:19:59.489029</td>\n",
       "      <td>ALE</td>\n",
       "      <td>150</td>\n",
       "      <td>sell</td>\n",
       "      <td>50.0</td>\n",
       "    </tr>\n",
       "    <tr>\n",
       "      <th>11</th>\n",
       "      <td>2018-05-27 18:19:59.493791</td>\n",
       "      <td>ALE</td>\n",
       "      <td>300</td>\n",
       "      <td>sell</td>\n",
       "      <td>100.0</td>\n",
       "    </tr>\n",
       "  </tbody>\n",
       "</table>\n",
       "</div>"
      ],
      "text/plain": [
       "                         date stock_index  qty buy/sell  price\n",
       "0  2018-05-27 18:19:59.384559         JOE  100     sell  150.0\n",
       "1  2018-05-27 18:19:59.414747         JOE  100     sell  250.0\n",
       "2  2018-05-27 18:19:59.427118         JOE  100      buy  250.0\n",
       "3  2018-05-27 18:19:59.433387         GIN  200      buy   50.0\n",
       "4  2018-05-27 18:19:59.438893         ALE  200      buy  150.0\n",
       "5  2017-01-01 12:59:03.000000         TEA  200      buy  100.0\n",
       "6  2018-05-27 18:19:59.450219         GIN  200     sell   75.0\n",
       "7  2018-05-27 18:19:59.459214         TEA  300     sell  125.0\n",
       "8  2018-05-27 18:19:59.472929         POP  300     sell  300.0\n",
       "9  2017-01-01 12:59:03.000000         ALE  200     sell  150.0\n",
       "10 2018-05-27 18:19:59.489029         ALE  150     sell   50.0\n",
       "11 2018-05-27 18:19:59.493791         ALE  300     sell  100.0"
      ]
     },
     "execution_count": 56,
     "metadata": {},
     "output_type": "execute_result"
    }
   ],
   "source": [
    "tr"
   ]
  },
  {
   "cell_type": "code",
   "execution_count": 57,
   "metadata": {},
   "outputs": [],
   "source": [
    "arr2 = [volume_weighted_stock_price(tr , stock_index, min_delta='360 min') for stock_index in stock_indexes]"
   ]
  },
  {
   "cell_type": "code",
   "execution_count": 58,
   "metadata": {},
   "outputs": [
    {
     "data": {
      "text/plain": [
       "[125.0, 103.84615384615384, 216.66666666666666, 300.0, 62.5]"
      ]
     },
     "execution_count": 58,
     "metadata": {},
     "output_type": "execute_result"
    }
   ],
   "source": [
    "arr2"
   ]
  },
  {
   "cell_type": "code",
   "execution_count": 59,
   "metadata": {},
   "outputs": [
    {
     "data": {
      "text/plain": [
       "139.45007771622844"
      ]
     },
     "execution_count": 59,
     "metadata": {},
     "output_type": "execute_result"
    }
   ],
   "source": [
    "geometric_mean(arr2)"
   ]
  },
  {
   "cell_type": "markdown",
   "metadata": {},
   "source": [
    "The function GBCE_stock_index below computes the geometric mean of all stock prices.\n",
    "Prices considered are the average trading prices computed by the function volume_weighted_stock_price -- see **1.a.iv.**<br>\n",
    "\n",
    "Its inputs:<br>\n",
    "stock_list: the stock list that is a Pandas Frame as specified before<br>\n",
    "trade_list: the trade list that is a Pandas Frame as specified before<br>\n",
    "min_delta: a string denoting a time delay for considering recent trades. By default its value\n",
    "corresponds to a **15 minute delay**."
   ]
  },
  {
   "cell_type": "markdown",
   "metadata": {},
   "source": [
    "Note: The implementation is such that if a stock has not been traded recently\n",
    "the value returned is NAN."
   ]
  },
  {
   "cell_type": "code",
   "execution_count": 60,
   "metadata": {},
   "outputs": [],
   "source": [
    "def GBCE_stock_index(stock_list,trade_list, min_delta='15 min'):\n",
    "    stock_indexes = stock_list.index.values\n",
    "    arr = [volume_weighted_stock_price(trade_list , i, min_delta) for i in stock_indexes]\n",
    "    # print arr\n",
    "    return geometric_mean(arr)"
   ]
  },
  {
   "cell_type": "markdown",
   "metadata": {},
   "source": [
    "**MORE testing data and commands...**"
   ]
  },
  {
   "cell_type": "code",
   "execution_count": 61,
   "metadata": {},
   "outputs": [
    {
     "data": {
      "text/plain": [
       "139.45007771622844"
      ]
     },
     "execution_count": 61,
     "metadata": {},
     "output_type": "execute_result"
    }
   ],
   "source": [
    "GBCE_stock_index(stock,tr, '360 min')"
   ]
  },
  {
   "cell_type": "code",
   "execution_count": 62,
   "metadata": {},
   "outputs": [
    {
     "data": {
      "text/html": [
       "<div>\n",
       "<style scoped>\n",
       "    .dataframe tbody tr th:only-of-type {\n",
       "        vertical-align: middle;\n",
       "    }\n",
       "\n",
       "    .dataframe tbody tr th {\n",
       "        vertical-align: top;\n",
       "    }\n",
       "\n",
       "    .dataframe thead th {\n",
       "        text-align: right;\n",
       "    }\n",
       "</style>\n",
       "<table border=\"1\" class=\"dataframe\">\n",
       "  <thead>\n",
       "    <tr style=\"text-align: right;\">\n",
       "      <th></th>\n",
       "      <th>date</th>\n",
       "      <th>stock_index</th>\n",
       "      <th>qty</th>\n",
       "      <th>buy/sell</th>\n",
       "      <th>price</th>\n",
       "    </tr>\n",
       "  </thead>\n",
       "  <tbody>\n",
       "  </tbody>\n",
       "</table>\n",
       "</div>"
      ],
      "text/plain": [
       "Empty DataFrame\n",
       "Columns: [date, stock_index, qty, buy/sell, price]\n",
       "Index: []"
      ]
     },
     "execution_count": 62,
     "metadata": {},
     "output_type": "execute_result"
    }
   ],
   "source": [
    "trades"
   ]
  },
  {
   "cell_type": "code",
   "execution_count": 63,
   "metadata": {},
   "outputs": [
    {
     "data": {
      "text/html": [
       "<div>\n",
       "<style scoped>\n",
       "    .dataframe tbody tr th:only-of-type {\n",
       "        vertical-align: middle;\n",
       "    }\n",
       "\n",
       "    .dataframe tbody tr th {\n",
       "        vertical-align: top;\n",
       "    }\n",
       "\n",
       "    .dataframe thead th {\n",
       "        text-align: right;\n",
       "    }\n",
       "</style>\n",
       "<table border=\"1\" class=\"dataframe\">\n",
       "  <thead>\n",
       "    <tr style=\"text-align: right;\">\n",
       "      <th></th>\n",
       "      <th>date</th>\n",
       "      <th>stock_index</th>\n",
       "      <th>qty</th>\n",
       "      <th>buy/sell</th>\n",
       "      <th>price</th>\n",
       "    </tr>\n",
       "  </thead>\n",
       "  <tbody>\n",
       "  </tbody>\n",
       "</table>\n",
       "</div>"
      ],
      "text/plain": [
       "Empty DataFrame\n",
       "Columns: [date, stock_index, qty, buy/sell, price]\n",
       "Index: []"
      ]
     },
     "execution_count": 63,
     "metadata": {},
     "output_type": "execute_result"
    }
   ],
   "source": [
    "tr2 = trades\n",
    "tr2"
   ]
  },
  {
   "cell_type": "code",
   "execution_count": 64,
   "metadata": {},
   "outputs": [
    {
     "data": {
      "text/plain": [
       "[nan, nan, nan, nan, nan]"
      ]
     },
     "execution_count": 64,
     "metadata": {},
     "output_type": "execute_result"
    }
   ],
   "source": [
    "arr3 = [volume_weighted_stock_price(tr2 , stock_index, min_delta='360 min') for stock_index in stock_indexes]\n",
    "arr3"
   ]
  },
  {
   "cell_type": "code",
   "execution_count": 65,
   "metadata": {},
   "outputs": [
    {
     "data": {
      "text/plain": [
       "nan"
      ]
     },
     "execution_count": 65,
     "metadata": {},
     "output_type": "execute_result"
    }
   ],
   "source": [
    "GBCE_stock_index(stock,tr2, '360 min')"
   ]
  },
  {
   "cell_type": "code",
   "execution_count": 66,
   "metadata": {},
   "outputs": [
    {
     "data": {
      "text/html": [
       "<div>\n",
       "<style scoped>\n",
       "    .dataframe tbody tr th:only-of-type {\n",
       "        vertical-align: middle;\n",
       "    }\n",
       "\n",
       "    .dataframe tbody tr th {\n",
       "        vertical-align: top;\n",
       "    }\n",
       "\n",
       "    .dataframe thead th {\n",
       "        text-align: right;\n",
       "    }\n",
       "</style>\n",
       "<table border=\"1\" class=\"dataframe\">\n",
       "  <thead>\n",
       "    <tr style=\"text-align: right;\">\n",
       "      <th></th>\n",
       "      <th>date</th>\n",
       "      <th>stock_index</th>\n",
       "      <th>qty</th>\n",
       "      <th>buy/sell</th>\n",
       "      <th>price</th>\n",
       "    </tr>\n",
       "  </thead>\n",
       "  <tbody>\n",
       "    <tr>\n",
       "      <th>0</th>\n",
       "      <td>2018-05-27 18:20:00.675418</td>\n",
       "      <td>JOE</td>\n",
       "      <td>300</td>\n",
       "      <td>sell</td>\n",
       "      <td>8.0</td>\n",
       "    </tr>\n",
       "    <tr>\n",
       "      <th>1</th>\n",
       "      <td>2018-05-27 18:20:00.694628</td>\n",
       "      <td>JOE</td>\n",
       "      <td>300</td>\n",
       "      <td>sell</td>\n",
       "      <td>10.0</td>\n",
       "    </tr>\n",
       "    <tr>\n",
       "      <th>2</th>\n",
       "      <td>2018-05-27 18:20:00.703454</td>\n",
       "      <td>JOE</td>\n",
       "      <td>300</td>\n",
       "      <td>sell</td>\n",
       "      <td>12.0</td>\n",
       "    </tr>\n",
       "    <tr>\n",
       "      <th>3</th>\n",
       "      <td>2018-05-27 18:20:00.710231</td>\n",
       "      <td>GIN</td>\n",
       "      <td>200</td>\n",
       "      <td>sell</td>\n",
       "      <td>10.0</td>\n",
       "    </tr>\n",
       "    <tr>\n",
       "      <th>4</th>\n",
       "      <td>2018-05-27 18:20:00.717030</td>\n",
       "      <td>GIN</td>\n",
       "      <td>200</td>\n",
       "      <td>sell</td>\n",
       "      <td>20.0</td>\n",
       "    </tr>\n",
       "    <tr>\n",
       "      <th>5</th>\n",
       "      <td>2018-05-27 18:20:00.721522</td>\n",
       "      <td>GIN</td>\n",
       "      <td>200</td>\n",
       "      <td>sell</td>\n",
       "      <td>30.0</td>\n",
       "    </tr>\n",
       "    <tr>\n",
       "      <th>6</th>\n",
       "      <td>2018-05-27 18:20:00.725651</td>\n",
       "      <td>ALE</td>\n",
       "      <td>300</td>\n",
       "      <td>sell</td>\n",
       "      <td>20.0</td>\n",
       "    </tr>\n",
       "    <tr>\n",
       "      <th>7</th>\n",
       "      <td>2018-05-27 18:20:00.739490</td>\n",
       "      <td>ALE</td>\n",
       "      <td>300</td>\n",
       "      <td>sell</td>\n",
       "      <td>40.0</td>\n",
       "    </tr>\n",
       "    <tr>\n",
       "      <th>8</th>\n",
       "      <td>2018-05-27 18:20:00.747509</td>\n",
       "      <td>ALE</td>\n",
       "      <td>300</td>\n",
       "      <td>sell</td>\n",
       "      <td>60.0</td>\n",
       "    </tr>\n",
       "    <tr>\n",
       "      <th>9</th>\n",
       "      <td>2018-05-27 18:20:00.751939</td>\n",
       "      <td>TEA</td>\n",
       "      <td>200</td>\n",
       "      <td>sell</td>\n",
       "      <td>70.0</td>\n",
       "    </tr>\n",
       "    <tr>\n",
       "      <th>10</th>\n",
       "      <td>2018-05-27 18:20:00.756115</td>\n",
       "      <td>TEA</td>\n",
       "      <td>200</td>\n",
       "      <td>sell</td>\n",
       "      <td>80.0</td>\n",
       "    </tr>\n",
       "    <tr>\n",
       "      <th>11</th>\n",
       "      <td>2018-05-27 18:20:00.760361</td>\n",
       "      <td>TEA</td>\n",
       "      <td>200</td>\n",
       "      <td>sell</td>\n",
       "      <td>90.0</td>\n",
       "    </tr>\n",
       "    <tr>\n",
       "      <th>12</th>\n",
       "      <td>2018-05-27 18:20:00.765320</td>\n",
       "      <td>POP</td>\n",
       "      <td>200</td>\n",
       "      <td>sell</td>\n",
       "      <td>159.0</td>\n",
       "    </tr>\n",
       "    <tr>\n",
       "      <th>13</th>\n",
       "      <td>2018-05-27 18:20:00.769466</td>\n",
       "      <td>POP</td>\n",
       "      <td>300</td>\n",
       "      <td>sell</td>\n",
       "      <td>160.0</td>\n",
       "    </tr>\n",
       "    <tr>\n",
       "      <th>14</th>\n",
       "      <td>2018-05-27 18:20:00.773544</td>\n",
       "      <td>POP</td>\n",
       "      <td>200</td>\n",
       "      <td>sell</td>\n",
       "      <td>161.0</td>\n",
       "    </tr>\n",
       "  </tbody>\n",
       "</table>\n",
       "</div>"
      ],
      "text/plain": [
       "                         date stock_index  qty buy/sell  price\n",
       "0  2018-05-27 18:20:00.675418         JOE  300     sell    8.0\n",
       "1  2018-05-27 18:20:00.694628         JOE  300     sell   10.0\n",
       "2  2018-05-27 18:20:00.703454         JOE  300     sell   12.0\n",
       "3  2018-05-27 18:20:00.710231         GIN  200     sell   10.0\n",
       "4  2018-05-27 18:20:00.717030         GIN  200     sell   20.0\n",
       "5  2018-05-27 18:20:00.721522         GIN  200     sell   30.0\n",
       "6  2018-05-27 18:20:00.725651         ALE  300     sell   20.0\n",
       "7  2018-05-27 18:20:00.739490         ALE  300     sell   40.0\n",
       "8  2018-05-27 18:20:00.747509         ALE  300     sell   60.0\n",
       "9  2018-05-27 18:20:00.751939         TEA  200     sell   70.0\n",
       "10 2018-05-27 18:20:00.756115         TEA  200     sell   80.0\n",
       "11 2018-05-27 18:20:00.760361         TEA  200     sell   90.0\n",
       "12 2018-05-27 18:20:00.765320         POP  200     sell  159.0\n",
       "13 2018-05-27 18:20:00.769466         POP  300     sell  160.0\n",
       "14 2018-05-27 18:20:00.773544         POP  200     sell  161.0"
      ]
     },
     "execution_count": 66,
     "metadata": {},
     "output_type": "execute_result"
    }
   ],
   "source": [
    "tr3 = trades\n",
    "tr3 = add_trade(tr3, 'JOE', 300, 'sell', 8.)\n",
    "tr3 = add_trade(tr3, 'JOE', 300, 'sell', 10.)\n",
    "tr3 = add_trade(tr3, 'JOE', 300, 'sell', 12.)\n",
    "tr3 = add_trade(tr3, 'GIN', 200, 'sell', 10.)\n",
    "tr3 = add_trade(tr3, 'GIN', 200, 'sell', 20.)\n",
    "tr3 = add_trade(tr3, 'GIN', 200, 'sell', 30.)\n",
    "tr3 = add_trade(tr3, 'ALE', 300, 'sell', 20.)\n",
    "tr3 = add_trade(tr3, 'ALE', 300, 'sell', 40.)\n",
    "tr3 = add_trade(tr3, 'ALE', 300, 'sell', 60.)\n",
    "tr3 = add_trade(tr3, 'TEA', 200, 'sell', 70.)\n",
    "tr3 = add_trade(tr3, 'TEA', 200, 'sell', 80.)\n",
    "tr3 = add_trade(tr3, 'TEA', 200, 'sell', 90.)\n",
    "tr3 = add_trade(tr3, 'POP', 200, 'sell', 159.)\n",
    "tr3 = add_trade(tr3, 'POP', 300, 'sell', 160.)\n",
    "tr3 = add_trade(tr3, 'POP', 200, 'sell', 161.)\n",
    "tr3"
   ]
  },
  {
   "cell_type": "code",
   "execution_count": 67,
   "metadata": {},
   "outputs": [
    {
     "data": {
      "text/plain": [
       "nan"
      ]
     },
     "execution_count": 67,
     "metadata": {},
     "output_type": "execute_result"
    }
   ],
   "source": [
    "volume_weighted_stock_price(tr3, 'XXX', '10 min')"
   ]
  },
  {
   "cell_type": "code",
   "execution_count": 68,
   "metadata": {},
   "outputs": [
    {
     "data": {
      "text/plain": [
       "40.0"
      ]
     },
     "execution_count": 68,
     "metadata": {},
     "output_type": "execute_result"
    }
   ],
   "source": [
    "GBCE_stock_index(stock,tr3, '360 min')"
   ]
  },
  {
   "cell_type": "code",
   "execution_count": null,
   "metadata": {},
   "outputs": [],
   "source": []
  }
 ],
 "metadata": {
  "kernelspec": {
   "display_name": "Python 2",
   "language": "python",
   "name": "python2"
  },
  "language_info": {
   "codemirror_mode": {
    "name": "ipython",
    "version": 2
   },
   "file_extension": ".py",
   "mimetype": "text/x-python",
   "name": "python",
   "nbconvert_exporter": "python",
   "pygments_lexer": "ipython2",
   "version": "2.7.14"
  }
 },
 "nbformat": 4,
 "nbformat_minor": 2
}
