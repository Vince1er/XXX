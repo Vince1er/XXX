{
 "cells": [
  {
   "cell_type": "code",
   "execution_count": 1,
   "metadata": {},
   "outputs": [
    {
     "data": {
      "text/plain": [
       "u'/Users/vincent/Desktop/Jupyter-demo'"
      ]
     },
     "execution_count": 1,
     "metadata": {},
     "output_type": "execute_result"
    }
   ],
   "source": [
    "%pwd"
   ]
  },
  {
   "cell_type": "markdown",
   "metadata": {},
   "source": [
    "I chose to use Python/Pandas/Numpy for this test."
   ]
  },
  {
   "cell_type": "code",
   "execution_count": 2,
   "metadata": {},
   "outputs": [],
   "source": [
    "import pandas as pd\n",
    "import numpy as np"
   ]
  },
  {
   "cell_type": "markdown",
   "metadata": {},
   "source": [
    "Definition of sample set of data. The same as defined in the spreadsheet."
   ]
  },
  {
   "cell_type": "code",
   "execution_count": 3,
   "metadata": {},
   "outputs": [],
   "source": [
    "stock = pd.DataFrame()"
   ]
  },
  {
   "cell_type": "code",
   "execution_count": 4,
   "metadata": {},
   "outputs": [],
   "source": [
    "data = {'TEA': ['Common', 0., np.nan, 100.],\n",
    "         'POP':['Common', 8., np.nan, 100.],\n",
    "         'ALE':['Common', 23., np.nan, 60.],\n",
    "        'GIN': ['Preferred', 8., 2., 100.],\n",
    "        'JOE': ['Common', 13., np.nan,250.]\n",
    "        }"
   ]
  },
  {
   "cell_type": "code",
   "execution_count": 5,
   "metadata": {},
   "outputs": [
    {
     "data": {
      "text/plain": [
       "{'ALE': ['Common', 23.0, nan, 60.0],\n",
       " 'GIN': ['Preferred', 8.0, 2.0, 100.0],\n",
       " 'JOE': ['Common', 13.0, nan, 250.0],\n",
       " 'POP': ['Common', 8.0, nan, 100.0],\n",
       " 'TEA': ['Common', 0.0, nan, 100.0]}"
      ]
     },
     "execution_count": 5,
     "metadata": {},
     "output_type": "execute_result"
    }
   ],
   "source": [
    "data"
   ]
  },
  {
   "cell_type": "code",
   "execution_count": 6,
   "metadata": {},
   "outputs": [],
   "source": [
    " stock = pd.DataFrame.from_dict(data, orient='index')"
   ]
  },
  {
   "cell_type": "code",
   "execution_count": 7,
   "metadata": {},
   "outputs": [
    {
     "data": {
      "text/html": [
       "<div>\n",
       "<style scoped>\n",
       "    .dataframe tbody tr th:only-of-type {\n",
       "        vertical-align: middle;\n",
       "    }\n",
       "\n",
       "    .dataframe tbody tr th {\n",
       "        vertical-align: top;\n",
       "    }\n",
       "\n",
       "    .dataframe thead th {\n",
       "        text-align: right;\n",
       "    }\n",
       "</style>\n",
       "<table border=\"1\" class=\"dataframe\">\n",
       "  <thead>\n",
       "    <tr style=\"text-align: right;\">\n",
       "      <th></th>\n",
       "      <th>0</th>\n",
       "      <th>1</th>\n",
       "      <th>2</th>\n",
       "      <th>3</th>\n",
       "    </tr>\n",
       "  </thead>\n",
       "  <tbody>\n",
       "    <tr>\n",
       "      <th>TEA</th>\n",
       "      <td>Common</td>\n",
       "      <td>0.0</td>\n",
       "      <td>NaN</td>\n",
       "      <td>100.0</td>\n",
       "    </tr>\n",
       "    <tr>\n",
       "      <th>ALE</th>\n",
       "      <td>Common</td>\n",
       "      <td>23.0</td>\n",
       "      <td>NaN</td>\n",
       "      <td>60.0</td>\n",
       "    </tr>\n",
       "    <tr>\n",
       "      <th>JOE</th>\n",
       "      <td>Common</td>\n",
       "      <td>13.0</td>\n",
       "      <td>NaN</td>\n",
       "      <td>250.0</td>\n",
       "    </tr>\n",
       "    <tr>\n",
       "      <th>POP</th>\n",
       "      <td>Common</td>\n",
       "      <td>8.0</td>\n",
       "      <td>NaN</td>\n",
       "      <td>100.0</td>\n",
       "    </tr>\n",
       "    <tr>\n",
       "      <th>GIN</th>\n",
       "      <td>Preferred</td>\n",
       "      <td>8.0</td>\n",
       "      <td>2.0</td>\n",
       "      <td>100.0</td>\n",
       "    </tr>\n",
       "  </tbody>\n",
       "</table>\n",
       "</div>"
      ],
      "text/plain": [
       "             0     1    2      3\n",
       "TEA     Common   0.0  NaN  100.0\n",
       "ALE     Common  23.0  NaN   60.0\n",
       "JOE     Common  13.0  NaN  250.0\n",
       "POP     Common   8.0  NaN  100.0\n",
       "GIN  Preferred   8.0  2.0  100.0"
      ]
     },
     "execution_count": 7,
     "metadata": {},
     "output_type": "execute_result"
    }
   ],
   "source": [
    "stock"
   ]
  },
  {
   "cell_type": "code",
   "execution_count": 8,
   "metadata": {},
   "outputs": [],
   "source": [
    "stock.columns = ['Type','LastDiv','FixedDiv','ParV']"
   ]
  },
  {
   "cell_type": "code",
   "execution_count": 9,
   "metadata": {},
   "outputs": [
    {
     "data": {
      "text/html": [
       "<div>\n",
       "<style scoped>\n",
       "    .dataframe tbody tr th:only-of-type {\n",
       "        vertical-align: middle;\n",
       "    }\n",
       "\n",
       "    .dataframe tbody tr th {\n",
       "        vertical-align: top;\n",
       "    }\n",
       "\n",
       "    .dataframe thead th {\n",
       "        text-align: right;\n",
       "    }\n",
       "</style>\n",
       "<table border=\"1\" class=\"dataframe\">\n",
       "  <thead>\n",
       "    <tr style=\"text-align: right;\">\n",
       "      <th></th>\n",
       "      <th>Type</th>\n",
       "      <th>LastDiv</th>\n",
       "      <th>FixedDiv</th>\n",
       "      <th>ParV</th>\n",
       "    </tr>\n",
       "  </thead>\n",
       "  <tbody>\n",
       "    <tr>\n",
       "      <th>TEA</th>\n",
       "      <td>Common</td>\n",
       "      <td>0.0</td>\n",
       "      <td>NaN</td>\n",
       "      <td>100.0</td>\n",
       "    </tr>\n",
       "    <tr>\n",
       "      <th>ALE</th>\n",
       "      <td>Common</td>\n",
       "      <td>23.0</td>\n",
       "      <td>NaN</td>\n",
       "      <td>60.0</td>\n",
       "    </tr>\n",
       "    <tr>\n",
       "      <th>JOE</th>\n",
       "      <td>Common</td>\n",
       "      <td>13.0</td>\n",
       "      <td>NaN</td>\n",
       "      <td>250.0</td>\n",
       "    </tr>\n",
       "    <tr>\n",
       "      <th>POP</th>\n",
       "      <td>Common</td>\n",
       "      <td>8.0</td>\n",
       "      <td>NaN</td>\n",
       "      <td>100.0</td>\n",
       "    </tr>\n",
       "    <tr>\n",
       "      <th>GIN</th>\n",
       "      <td>Preferred</td>\n",
       "      <td>8.0</td>\n",
       "      <td>2.0</td>\n",
       "      <td>100.0</td>\n",
       "    </tr>\n",
       "  </tbody>\n",
       "</table>\n",
       "</div>"
      ],
      "text/plain": [
       "          Type  LastDiv  FixedDiv   ParV\n",
       "TEA     Common      0.0       NaN  100.0\n",
       "ALE     Common     23.0       NaN   60.0\n",
       "JOE     Common     13.0       NaN  250.0\n",
       "POP     Common      8.0       NaN  100.0\n",
       "GIN  Preferred      8.0       2.0  100.0"
      ]
     },
     "execution_count": 9,
     "metadata": {},
     "output_type": "execute_result"
    }
   ],
   "source": [
    "stock"
   ]
  },
  {
   "cell_type": "markdown",
   "metadata": {},
   "source": [
    "Above is a Pandas frame with the data"
   ]
  },
  {
   "cell_type": "code",
   "execution_count": 10,
   "metadata": {},
   "outputs": [
    {
     "data": {
      "text/plain": [
       "Type        Common\n",
       "LastDiv         13\n",
       "FixedDiv       NaN\n",
       "ParV           250\n",
       "Name: JOE, dtype: object"
      ]
     },
     "execution_count": 10,
     "metadata": {},
     "output_type": "execute_result"
    }
   ],
   "source": [
    "stock.loc['JOE']"
   ]
  },
  {
   "cell_type": "code",
   "execution_count": 11,
   "metadata": {},
   "outputs": [],
   "source": [
    "market_price = 12.00"
   ]
  },
  {
   "cell_type": "code",
   "execution_count": 12,
   "metadata": {},
   "outputs": [
    {
     "data": {
      "text/plain": [
       "1.0833333333333333"
      ]
     },
     "execution_count": 12,
     "metadata": {},
     "output_type": "execute_result"
    }
   ],
   "source": [
    "stock.loc['JOE']['LastDiv']/market_price"
   ]
  },
  {
   "cell_type": "markdown",
   "metadata": {},
   "source": [
    "Below a first version of the computation of the dividend yield. It does note take yet into\n",
    "account the \"preferred\" shares."
   ]
  },
  {
   "cell_type": "code",
   "execution_count": 13,
   "metadata": {},
   "outputs": [],
   "source": [
    "def dividend_yield_0(stock_index, market_price=None):\n",
    "    dy = (stock.loc[stock_index]['LastDiv'])/market_price\n",
    "    return dy"
   ]
  },
  {
   "cell_type": "code",
   "execution_count": 14,
   "metadata": {},
   "outputs": [
    {
     "data": {
      "text/plain": [
       "1.0833333333333333"
      ]
     },
     "execution_count": 14,
     "metadata": {},
     "output_type": "execute_result"
    }
   ],
   "source": [
    "dividend_yield_0('JOE',12.)"
   ]
  },
  {
   "cell_type": "code",
   "execution_count": 15,
   "metadata": {},
   "outputs": [
    {
     "data": {
      "text/plain": [
       "0.21666666666666667"
      ]
     },
     "execution_count": 15,
     "metadata": {},
     "output_type": "execute_result"
    }
   ],
   "source": [
    "dividend_yield_0('JOE',60.)"
   ]
  },
  {
   "cell_type": "markdown",
   "metadata": {},
   "source": [
    "This is the definitive version of the function computing the dividend yield.\n",
    "I suppose that the stock_index exists in the stock and corresponds to a unique row.\n",
    "(I.e. stock_index is a key). "
   ]
  },
  {
   "cell_type": "markdown",
   "metadata": {},
   "source": [
    "**1.a.i** This is the definitive version of the function computing the dividend yield. I suppose that the stock_index exists in the stock and corresponds to a unique row. (I.e. stock_index is a key). "
   ]
  },
  {
   "cell_type": "code",
   "execution_count": 16,
   "metadata": {},
   "outputs": [],
   "source": [
    "def dividend_yield(stock_index, market_price):\n",
    "    st = stock.loc[stock_index]\n",
    "    if st['Type'] == 'Preferred':\n",
    "        return (st['FixedDiv']/100.)*st['ParV']/market_price\n",
    "    return st['LastDiv']/market_price "
   ]
  },
  {
   "cell_type": "code",
   "execution_count": 17,
   "metadata": {},
   "outputs": [
    {
     "data": {
      "text/plain": [
       "1.0"
      ]
     },
     "execution_count": 17,
     "metadata": {},
     "output_type": "execute_result"
    }
   ],
   "source": [
    "dividend_yield('JOE',13.)"
   ]
  },
  {
   "cell_type": "code",
   "execution_count": 18,
   "metadata": {},
   "outputs": [
    {
     "data": {
      "text/plain": [
       "0.02"
      ]
     },
     "execution_count": 18,
     "metadata": {},
     "output_type": "execute_result"
    }
   ],
   "source": [
    "dividend_yield('GIN',100.)"
   ]
  },
  {
   "cell_type": "markdown",
   "metadata": {},
   "source": [
    "**1.a.ii.** I understand from the given definitions that the P/E ratio is just\n",
    "**the inverse of the dividend yield**. Below is the function computing the P/E ratio."
   ]
  },
  {
   "cell_type": "code",
   "execution_count": 19,
   "metadata": {},
   "outputs": [],
   "source": [
    "def price_earnings_ratio(stock_index, market_price):\n",
    "    return 1/dividend_yield(stock_index, market_price)"
   ]
  },
  {
   "cell_type": "code",
   "execution_count": 20,
   "metadata": {},
   "outputs": [
    {
     "data": {
      "text/plain": [
       "1.0"
      ]
     },
     "execution_count": 20,
     "metadata": {},
     "output_type": "execute_result"
    }
   ],
   "source": [
    "price_earnings_ratio('JOE',13.)"
   ]
  },
  {
   "cell_type": "code",
   "execution_count": 21,
   "metadata": {},
   "outputs": [
    {
     "data": {
      "text/plain": [
       "50.0"
      ]
     },
     "execution_count": 21,
     "metadata": {},
     "output_type": "execute_result"
    }
   ],
   "source": [
    "price_earnings_ratio('GIN',100.)"
   ]
  },
  {
   "cell_type": "markdown",
   "metadata": {},
   "source": [
    "For the next question, I define an array (a \"Pandas Frame\") storing the trade records."
   ]
  },
  {
   "cell_type": "code",
   "execution_count": 22,
   "metadata": {},
   "outputs": [],
   "source": [
    "trades = pd.DataFrame(columns = ['date','stock_index','qty','buy/sell','price'])"
   ]
  },
  {
   "cell_type": "code",
   "execution_count": 26,
   "metadata": {},
   "outputs": [
    {
     "data": {
      "text/html": [
       "<div>\n",
       "<style scoped>\n",
       "    .dataframe tbody tr th:only-of-type {\n",
       "        vertical-align: middle;\n",
       "    }\n",
       "\n",
       "    .dataframe tbody tr th {\n",
       "        vertical-align: top;\n",
       "    }\n",
       "\n",
       "    .dataframe thead th {\n",
       "        text-align: right;\n",
       "    }\n",
       "</style>\n",
       "<table border=\"1\" class=\"dataframe\">\n",
       "  <thead>\n",
       "    <tr style=\"text-align: right;\">\n",
       "      <th></th>\n",
       "      <th>date</th>\n",
       "      <th>stock_index</th>\n",
       "      <th>qty</th>\n",
       "      <th>buy/sell</th>\n",
       "      <th>price</th>\n",
       "    </tr>\n",
       "  </thead>\n",
       "  <tbody>\n",
       "  </tbody>\n",
       "</table>\n",
       "</div>"
      ],
      "text/plain": [
       "Empty DataFrame\n",
       "Columns: [date, stock_index, qty, buy/sell, price]\n",
       "Index: []"
      ]
     },
     "execution_count": 26,
     "metadata": {},
     "output_type": "execute_result"
    }
   ],
   "source": [
    "trades"
   ]
  },
  {
   "cell_type": "code",
   "execution_count": 23,
   "metadata": {},
   "outputs": [
    {
     "data": {
      "text/html": [
       "<div>\n",
       "<style scoped>\n",
       "    .dataframe tbody tr th:only-of-type {\n",
       "        vertical-align: middle;\n",
       "    }\n",
       "\n",
       "    .dataframe tbody tr th {\n",
       "        vertical-align: top;\n",
       "    }\n",
       "\n",
       "    .dataframe thead th {\n",
       "        text-align: right;\n",
       "    }\n",
       "</style>\n",
       "<table border=\"1\" class=\"dataframe\">\n",
       "  <thead>\n",
       "    <tr style=\"text-align: right;\">\n",
       "      <th></th>\n",
       "      <th>date</th>\n",
       "      <th>stock_index</th>\n",
       "      <th>qty</th>\n",
       "      <th>buy/sell</th>\n",
       "      <th>price</th>\n",
       "    </tr>\n",
       "  </thead>\n",
       "  <tbody>\n",
       "    <tr>\n",
       "      <th>0</th>\n",
       "      <td>15-02-18</td>\n",
       "      <td>JOE</td>\n",
       "      <td>100</td>\n",
       "      <td>sell</td>\n",
       "      <td>250.0</td>\n",
       "    </tr>\n",
       "  </tbody>\n",
       "</table>\n",
       "</div>"
      ],
      "text/plain": [
       "       date stock_index  qty buy/sell  price\n",
       "0  15-02-18         JOE  100     sell  250.0"
      ]
     },
     "execution_count": 23,
     "metadata": {},
     "output_type": "execute_result"
    }
   ],
   "source": [
    "trades.append({'date':'15-02-18', 'stock_index':'JOE','qty':100, \n",
    "                   'buy/sell':'sell', 'price':250.},ignore_index=True)"
   ]
  },
  {
   "cell_type": "code",
   "execution_count": 24,
   "metadata": {},
   "outputs": [],
   "source": [
    "tr = trades.append({'date':'15-03-18', 'stock_index':'GIN','qty':300, \n",
    "                   'buy/sell':'buy', 'price':30.},ignore_index=True)"
   ]
  },
  {
   "cell_type": "code",
   "execution_count": 25,
   "metadata": {},
   "outputs": [],
   "source": [
    "tr = tr.append({'date':'15-02-18', 'stock_index':'JOE','qty':100, \n",
    "                   'buy/sell':'sell', 'price':250.},ignore_index=True)"
   ]
  },
  {
   "cell_type": "code",
   "execution_count": 26,
   "metadata": {},
   "outputs": [
    {
     "data": {
      "text/html": [
       "<div>\n",
       "<style scoped>\n",
       "    .dataframe tbody tr th:only-of-type {\n",
       "        vertical-align: middle;\n",
       "    }\n",
       "\n",
       "    .dataframe tbody tr th {\n",
       "        vertical-align: top;\n",
       "    }\n",
       "\n",
       "    .dataframe thead th {\n",
       "        text-align: right;\n",
       "    }\n",
       "</style>\n",
       "<table border=\"1\" class=\"dataframe\">\n",
       "  <thead>\n",
       "    <tr style=\"text-align: right;\">\n",
       "      <th></th>\n",
       "      <th>date</th>\n",
       "      <th>stock_index</th>\n",
       "      <th>qty</th>\n",
       "      <th>buy/sell</th>\n",
       "      <th>price</th>\n",
       "    </tr>\n",
       "  </thead>\n",
       "  <tbody>\n",
       "    <tr>\n",
       "      <th>0</th>\n",
       "      <td>15-03-18</td>\n",
       "      <td>GIN</td>\n",
       "      <td>300</td>\n",
       "      <td>buy</td>\n",
       "      <td>30.0</td>\n",
       "    </tr>\n",
       "    <tr>\n",
       "      <th>1</th>\n",
       "      <td>15-02-18</td>\n",
       "      <td>JOE</td>\n",
       "      <td>100</td>\n",
       "      <td>sell</td>\n",
       "      <td>250.0</td>\n",
       "    </tr>\n",
       "  </tbody>\n",
       "</table>\n",
       "</div>"
      ],
      "text/plain": [
       "       date stock_index  qty buy/sell  price\n",
       "0  15-03-18         GIN  300      buy   30.0\n",
       "1  15-02-18         JOE  100     sell  250.0"
      ]
     },
     "execution_count": 26,
     "metadata": {},
     "output_type": "execute_result"
    }
   ],
   "source": [
    "tr"
   ]
  },
  {
   "cell_type": "markdown",
   "metadata": {},
   "source": [
    "A first version of the function adding a trade record to the trade list.\n",
    "Actually I should have coded an object and this function should be \n",
    "a modifier for this object. It is not the case here. The array of data\n",
    "is just a Pandas Frame."
   ]
  },
  {
   "cell_type": "code",
   "execution_count": 27,
   "metadata": {},
   "outputs": [],
   "source": [
    "def add_trade_0(t, date, stock_index, qty, bs_ind, price):\n",
    "    t = t.append({'date':date, 'stock_index':stock_index,'qty':qty, \n",
    "                   'buy/sell':bs_ind, 'price':price},ignore_index=True)\n",
    "    return t"
   ]
  },
  {
   "cell_type": "code",
   "execution_count": 28,
   "metadata": {},
   "outputs": [],
   "source": [
    "tr = add_trade_0(tr, '15-02-18', 'JOE', 100, 'sell', 250.)"
   ]
  },
  {
   "cell_type": "code",
   "execution_count": 29,
   "metadata": {
    "scrolled": true
   },
   "outputs": [
    {
     "data": {
      "text/html": [
       "<div>\n",
       "<style scoped>\n",
       "    .dataframe tbody tr th:only-of-type {\n",
       "        vertical-align: middle;\n",
       "    }\n",
       "\n",
       "    .dataframe tbody tr th {\n",
       "        vertical-align: top;\n",
       "    }\n",
       "\n",
       "    .dataframe thead th {\n",
       "        text-align: right;\n",
       "    }\n",
       "</style>\n",
       "<table border=\"1\" class=\"dataframe\">\n",
       "  <thead>\n",
       "    <tr style=\"text-align: right;\">\n",
       "      <th></th>\n",
       "      <th>date</th>\n",
       "      <th>stock_index</th>\n",
       "      <th>qty</th>\n",
       "      <th>buy/sell</th>\n",
       "      <th>price</th>\n",
       "    </tr>\n",
       "  </thead>\n",
       "  <tbody>\n",
       "    <tr>\n",
       "      <th>0</th>\n",
       "      <td>15-03-18</td>\n",
       "      <td>GIN</td>\n",
       "      <td>300</td>\n",
       "      <td>buy</td>\n",
       "      <td>30.0</td>\n",
       "    </tr>\n",
       "    <tr>\n",
       "      <th>1</th>\n",
       "      <td>15-02-18</td>\n",
       "      <td>JOE</td>\n",
       "      <td>100</td>\n",
       "      <td>sell</td>\n",
       "      <td>250.0</td>\n",
       "    </tr>\n",
       "    <tr>\n",
       "      <th>2</th>\n",
       "      <td>15-02-18</td>\n",
       "      <td>JOE</td>\n",
       "      <td>100</td>\n",
       "      <td>sell</td>\n",
       "      <td>250.0</td>\n",
       "    </tr>\n",
       "  </tbody>\n",
       "</table>\n",
       "</div>"
      ],
      "text/plain": [
       "       date stock_index  qty buy/sell  price\n",
       "0  15-03-18         GIN  300      buy   30.0\n",
       "1  15-02-18         JOE  100     sell  250.0\n",
       "2  15-02-18         JOE  100     sell  250.0"
      ]
     },
     "execution_count": 29,
     "metadata": {},
     "output_type": "execute_result"
    }
   ],
   "source": [
    "tr"
   ]
  },
  {
   "cell_type": "code",
   "execution_count": 30,
   "metadata": {},
   "outputs": [
    {
     "data": {
      "text/plain": [
       "Timestamp('2018-05-26 14:54:56.428670')"
      ]
     },
     "execution_count": 30,
     "metadata": {},
     "output_type": "execute_result"
    }
   ],
   "source": [
    "pd.Timestamp.now()"
   ]
  },
  {
   "cell_type": "code",
   "execution_count": 31,
   "metadata": {},
   "outputs": [
    {
     "data": {
      "text/plain": [
       "Timestamp('2017-01-01 12:59:03')"
      ]
     },
     "execution_count": 31,
     "metadata": {},
     "output_type": "execute_result"
    }
   ],
   "source": [
    "pd.Timestamp(year=2017, month=1, day=1, hour=12, minute=59, second=3)"
   ]
  },
  {
   "cell_type": "markdown",
   "metadata": {},
   "source": [
    "This is a second version of the function adding trade records into the list. \n",
    "Now the date entered should be of the type pd.Timestamp. \n",
    "If the argument date is not given to the function then the date is set by default\n",
    "to the current date."
   ]
  },
  {
   "cell_type": "code",
   "execution_count": 32,
   "metadata": {},
   "outputs": [],
   "source": [
    "tr = trades"
   ]
  },
  {
   "cell_type": "code",
   "execution_count": 33,
   "metadata": {},
   "outputs": [
    {
     "data": {
      "text/html": [
       "<div>\n",
       "<style scoped>\n",
       "    .dataframe tbody tr th:only-of-type {\n",
       "        vertical-align: middle;\n",
       "    }\n",
       "\n",
       "    .dataframe tbody tr th {\n",
       "        vertical-align: top;\n",
       "    }\n",
       "\n",
       "    .dataframe thead th {\n",
       "        text-align: right;\n",
       "    }\n",
       "</style>\n",
       "<table border=\"1\" class=\"dataframe\">\n",
       "  <thead>\n",
       "    <tr style=\"text-align: right;\">\n",
       "      <th></th>\n",
       "      <th>date</th>\n",
       "      <th>stock_index</th>\n",
       "      <th>qty</th>\n",
       "      <th>buy/sell</th>\n",
       "      <th>price</th>\n",
       "    </tr>\n",
       "  </thead>\n",
       "  <tbody>\n",
       "  </tbody>\n",
       "</table>\n",
       "</div>"
      ],
      "text/plain": [
       "Empty DataFrame\n",
       "Columns: [date, stock_index, qty, buy/sell, price]\n",
       "Index: []"
      ]
     },
     "execution_count": 33,
     "metadata": {},
     "output_type": "execute_result"
    }
   ],
   "source": [
    "tr"
   ]
  },
  {
   "cell_type": "code",
   "execution_count": 34,
   "metadata": {},
   "outputs": [],
   "source": [
    "def add_trade(t, stock_index, qty, bs_ind, price, date=None):\n",
    "    if (date == None):\n",
    "        date = pd.Timestamp.now()\n",
    "    t = t.append({'date':date, 'stock_index':stock_index,'qty':qty, \n",
    "                   'buy/sell':bs_ind, 'price':price},ignore_index=True)\n",
    "    return t"
   ]
  },
  {
   "cell_type": "code",
   "execution_count": 35,
   "metadata": {},
   "outputs": [],
   "source": [
    "tr = add_trade(tr, 'JOE', 100, 'sell', 250.)"
   ]
  },
  {
   "cell_type": "code",
   "execution_count": 36,
   "metadata": {},
   "outputs": [],
   "source": [
    "tr = add_trade(tr, 'JOE', 100, 'sell', 250.)\n",
    "tr = add_trade(tr, 'JOE', 100, 'buy', 250.)\n",
    "tr = add_trade(tr, 'GIN', 200, 'buy', 50.)\n",
    "tr = add_trade(tr, 'ALE', 200, 'buy', 150.)"
   ]
  },
  {
   "cell_type": "code",
   "execution_count": 37,
   "metadata": {},
   "outputs": [
    {
     "data": {
      "text/html": [
       "<div>\n",
       "<style scoped>\n",
       "    .dataframe tbody tr th:only-of-type {\n",
       "        vertical-align: middle;\n",
       "    }\n",
       "\n",
       "    .dataframe tbody tr th {\n",
       "        vertical-align: top;\n",
       "    }\n",
       "\n",
       "    .dataframe thead th {\n",
       "        text-align: right;\n",
       "    }\n",
       "</style>\n",
       "<table border=\"1\" class=\"dataframe\">\n",
       "  <thead>\n",
       "    <tr style=\"text-align: right;\">\n",
       "      <th></th>\n",
       "      <th>date</th>\n",
       "      <th>stock_index</th>\n",
       "      <th>qty</th>\n",
       "      <th>buy/sell</th>\n",
       "      <th>price</th>\n",
       "    </tr>\n",
       "  </thead>\n",
       "  <tbody>\n",
       "    <tr>\n",
       "      <th>0</th>\n",
       "      <td>2018-05-26 14:55:13.704518</td>\n",
       "      <td>JOE</td>\n",
       "      <td>100</td>\n",
       "      <td>sell</td>\n",
       "      <td>250.0</td>\n",
       "    </tr>\n",
       "    <tr>\n",
       "      <th>1</th>\n",
       "      <td>2018-05-26 14:55:16.617846</td>\n",
       "      <td>JOE</td>\n",
       "      <td>100</td>\n",
       "      <td>sell</td>\n",
       "      <td>250.0</td>\n",
       "    </tr>\n",
       "    <tr>\n",
       "      <th>2</th>\n",
       "      <td>2018-05-26 14:55:16.627014</td>\n",
       "      <td>JOE</td>\n",
       "      <td>100</td>\n",
       "      <td>buy</td>\n",
       "      <td>250.0</td>\n",
       "    </tr>\n",
       "    <tr>\n",
       "      <th>3</th>\n",
       "      <td>2018-05-26 14:55:16.634000</td>\n",
       "      <td>GIN</td>\n",
       "      <td>200</td>\n",
       "      <td>buy</td>\n",
       "      <td>50.0</td>\n",
       "    </tr>\n",
       "    <tr>\n",
       "      <th>4</th>\n",
       "      <td>2018-05-26 14:55:16.638400</td>\n",
       "      <td>ALE</td>\n",
       "      <td>200</td>\n",
       "      <td>buy</td>\n",
       "      <td>150.0</td>\n",
       "    </tr>\n",
       "  </tbody>\n",
       "</table>\n",
       "</div>"
      ],
      "text/plain": [
       "                        date stock_index  qty buy/sell  price\n",
       "0 2018-05-26 14:55:13.704518         JOE  100     sell  250.0\n",
       "1 2018-05-26 14:55:16.617846         JOE  100     sell  250.0\n",
       "2 2018-05-26 14:55:16.627014         JOE  100      buy  250.0\n",
       "3 2018-05-26 14:55:16.634000         GIN  200      buy   50.0\n",
       "4 2018-05-26 14:55:16.638400         ALE  200      buy  150.0"
      ]
     },
     "execution_count": 37,
     "metadata": {},
     "output_type": "execute_result"
    }
   ],
   "source": [
    "tr"
   ]
  },
  {
   "cell_type": "code",
   "execution_count": 38,
   "metadata": {},
   "outputs": [],
   "source": [
    "tr = add_trade(tr, 'ALE', 200, 'sell', 150., \n",
    "               pd.Timestamp(year=2017, month=1, day=1, hour=12, minute=59, second=3))"
   ]
  },
  {
   "cell_type": "code",
   "execution_count": 39,
   "metadata": {},
   "outputs": [],
   "source": [
    "tr = add_trade(tr, 'ALE', 150, 'sell', 50.)\n",
    "tr = add_trade(tr, 'ALE', 300, 'sell', 100.)"
   ]
  },
  {
   "cell_type": "code",
   "execution_count": 40,
   "metadata": {},
   "outputs": [
    {
     "data": {
      "text/html": [
       "<div>\n",
       "<style scoped>\n",
       "    .dataframe tbody tr th:only-of-type {\n",
       "        vertical-align: middle;\n",
       "    }\n",
       "\n",
       "    .dataframe tbody tr th {\n",
       "        vertical-align: top;\n",
       "    }\n",
       "\n",
       "    .dataframe thead th {\n",
       "        text-align: right;\n",
       "    }\n",
       "</style>\n",
       "<table border=\"1\" class=\"dataframe\">\n",
       "  <thead>\n",
       "    <tr style=\"text-align: right;\">\n",
       "      <th></th>\n",
       "      <th>date</th>\n",
       "      <th>stock_index</th>\n",
       "      <th>qty</th>\n",
       "      <th>buy/sell</th>\n",
       "      <th>price</th>\n",
       "    </tr>\n",
       "  </thead>\n",
       "  <tbody>\n",
       "    <tr>\n",
       "      <th>0</th>\n",
       "      <td>2018-05-26 14:55:13.704518</td>\n",
       "      <td>JOE</td>\n",
       "      <td>100</td>\n",
       "      <td>sell</td>\n",
       "      <td>250.0</td>\n",
       "    </tr>\n",
       "    <tr>\n",
       "      <th>1</th>\n",
       "      <td>2018-05-26 14:55:16.617846</td>\n",
       "      <td>JOE</td>\n",
       "      <td>100</td>\n",
       "      <td>sell</td>\n",
       "      <td>250.0</td>\n",
       "    </tr>\n",
       "    <tr>\n",
       "      <th>2</th>\n",
       "      <td>2018-05-26 14:55:16.627014</td>\n",
       "      <td>JOE</td>\n",
       "      <td>100</td>\n",
       "      <td>buy</td>\n",
       "      <td>250.0</td>\n",
       "    </tr>\n",
       "    <tr>\n",
       "      <th>3</th>\n",
       "      <td>2018-05-26 14:55:16.634000</td>\n",
       "      <td>GIN</td>\n",
       "      <td>200</td>\n",
       "      <td>buy</td>\n",
       "      <td>50.0</td>\n",
       "    </tr>\n",
       "    <tr>\n",
       "      <th>4</th>\n",
       "      <td>2018-05-26 14:55:16.638400</td>\n",
       "      <td>ALE</td>\n",
       "      <td>200</td>\n",
       "      <td>buy</td>\n",
       "      <td>150.0</td>\n",
       "    </tr>\n",
       "    <tr>\n",
       "      <th>5</th>\n",
       "      <td>2017-01-01 12:59:03.000000</td>\n",
       "      <td>ALE</td>\n",
       "      <td>200</td>\n",
       "      <td>sell</td>\n",
       "      <td>150.0</td>\n",
       "    </tr>\n",
       "    <tr>\n",
       "      <th>6</th>\n",
       "      <td>2018-05-26 14:55:28.011853</td>\n",
       "      <td>ALE</td>\n",
       "      <td>150</td>\n",
       "      <td>sell</td>\n",
       "      <td>50.0</td>\n",
       "    </tr>\n",
       "    <tr>\n",
       "      <th>7</th>\n",
       "      <td>2018-05-26 14:55:28.021738</td>\n",
       "      <td>ALE</td>\n",
       "      <td>300</td>\n",
       "      <td>sell</td>\n",
       "      <td>100.0</td>\n",
       "    </tr>\n",
       "  </tbody>\n",
       "</table>\n",
       "</div>"
      ],
      "text/plain": [
       "                        date stock_index  qty buy/sell  price\n",
       "0 2018-05-26 14:55:13.704518         JOE  100     sell  250.0\n",
       "1 2018-05-26 14:55:16.617846         JOE  100     sell  250.0\n",
       "2 2018-05-26 14:55:16.627014         JOE  100      buy  250.0\n",
       "3 2018-05-26 14:55:16.634000         GIN  200      buy   50.0\n",
       "4 2018-05-26 14:55:16.638400         ALE  200      buy  150.0\n",
       "5 2017-01-01 12:59:03.000000         ALE  200     sell  150.0\n",
       "6 2018-05-26 14:55:28.011853         ALE  150     sell   50.0\n",
       "7 2018-05-26 14:55:28.021738         ALE  300     sell  100.0"
      ]
     },
     "execution_count": 40,
     "metadata": {},
     "output_type": "execute_result"
    }
   ],
   "source": [
    "tr"
   ]
  },
  {
   "cell_type": "markdown",
   "metadata": {},
   "source": [
    "For question 1.iv the stock has to be in the trade list of trades not older \n",
    "than 15 minutes."
   ]
  },
  {
   "cell_type": "code",
   "execution_count": 41,
   "metadata": {},
   "outputs": [],
   "source": [
    "time_now = pd.Timestamp.now()"
   ]
  },
  {
   "cell_type": "code",
   "execution_count": 42,
   "metadata": {},
   "outputs": [],
   "source": [
    "min_delta = '360 min'"
   ]
  },
  {
   "cell_type": "code",
   "execution_count": 43,
   "metadata": {},
   "outputs": [],
   "source": [
    "time_delta = pd.Timedelta(min_delta)"
   ]
  },
  {
   "cell_type": "code",
   "execution_count": 44,
   "metadata": {},
   "outputs": [
    {
     "data": {
      "text/plain": [
       "Timedelta('0 days 06:00:00')"
      ]
     },
     "execution_count": 44,
     "metadata": {},
     "output_type": "execute_result"
    }
   ],
   "source": [
    "time_delta"
   ]
  },
  {
   "cell_type": "code",
   "execution_count": 45,
   "metadata": {},
   "outputs": [
    {
     "data": {
      "text/plain": [
       "0   2018-05-26 14:55:13.704518\n",
       "1   2018-05-26 14:55:16.617846\n",
       "2   2018-05-26 14:55:16.627014\n",
       "3   2018-05-26 14:55:16.634000\n",
       "4   2018-05-26 14:55:16.638400\n",
       "5   2017-01-01 12:59:03.000000\n",
       "6   2018-05-26 14:55:28.011853\n",
       "7   2018-05-26 14:55:28.021738\n",
       "Name: date, dtype: datetime64[ns]"
      ]
     },
     "execution_count": 45,
     "metadata": {},
     "output_type": "execute_result"
    }
   ],
   "source": [
    "tr.date"
   ]
  },
  {
   "cell_type": "code",
   "execution_count": 46,
   "metadata": {},
   "outputs": [],
   "source": [
    "lt_recent= tr[( time_now - tr.date < time_delta ) & (tr.stock_index == 'JOE')]"
   ]
  },
  {
   "cell_type": "code",
   "execution_count": 47,
   "metadata": {},
   "outputs": [
    {
     "data": {
      "text/html": [
       "<div>\n",
       "<style scoped>\n",
       "    .dataframe tbody tr th:only-of-type {\n",
       "        vertical-align: middle;\n",
       "    }\n",
       "\n",
       "    .dataframe tbody tr th {\n",
       "        vertical-align: top;\n",
       "    }\n",
       "\n",
       "    .dataframe thead th {\n",
       "        text-align: right;\n",
       "    }\n",
       "</style>\n",
       "<table border=\"1\" class=\"dataframe\">\n",
       "  <thead>\n",
       "    <tr style=\"text-align: right;\">\n",
       "      <th></th>\n",
       "      <th>date</th>\n",
       "      <th>stock_index</th>\n",
       "      <th>qty</th>\n",
       "      <th>buy/sell</th>\n",
       "      <th>price</th>\n",
       "    </tr>\n",
       "  </thead>\n",
       "  <tbody>\n",
       "    <tr>\n",
       "      <th>0</th>\n",
       "      <td>2018-05-26 14:55:13.704518</td>\n",
       "      <td>JOE</td>\n",
       "      <td>100</td>\n",
       "      <td>sell</td>\n",
       "      <td>250.0</td>\n",
       "    </tr>\n",
       "    <tr>\n",
       "      <th>1</th>\n",
       "      <td>2018-05-26 14:55:16.617846</td>\n",
       "      <td>JOE</td>\n",
       "      <td>100</td>\n",
       "      <td>sell</td>\n",
       "      <td>250.0</td>\n",
       "    </tr>\n",
       "    <tr>\n",
       "      <th>2</th>\n",
       "      <td>2018-05-26 14:55:16.627014</td>\n",
       "      <td>JOE</td>\n",
       "      <td>100</td>\n",
       "      <td>buy</td>\n",
       "      <td>250.0</td>\n",
       "    </tr>\n",
       "  </tbody>\n",
       "</table>\n",
       "</div>"
      ],
      "text/plain": [
       "                        date stock_index  qty buy/sell  price\n",
       "0 2018-05-26 14:55:13.704518         JOE  100     sell  250.0\n",
       "1 2018-05-26 14:55:16.617846         JOE  100     sell  250.0\n",
       "2 2018-05-26 14:55:16.627014         JOE  100      buy  250.0"
      ]
     },
     "execution_count": 47,
     "metadata": {},
     "output_type": "execute_result"
    }
   ],
   "source": [
    "lt_recent"
   ]
  },
  {
   "cell_type": "markdown",
   "metadata": {},
   "source": [
    "**1.a.iv.** The function computing the Volume Weighted Stock Price. It takes as arguments the trading list tr_l (a Pandas Frame as defined above), the stock index, a parameter of the time delay for considering trades in the list, by default: 15 minutes."
   ]
  },
  {
   "cell_type": "code",
   "execution_count": 74,
   "metadata": {},
   "outputs": [],
   "source": [
    "def  volume_weighted_stock_price(tr_l , stock, min_delta='15 min'):\n",
    "    time_now = pd.Timestamp.now()\n",
    "    # print time_now\n",
    "    time_delta = pd.Timedelta(min_delta)\n",
    "    # print time_delta\n",
    "    t_rec = tr_l[(time_now - tr_l.date < time_delta) & (tr_l.stock_index == stock)]\n",
    "    # print t_rec\n",
    "    if t_rec.empty:\n",
    "        #print 'zero'\n",
    "        return np.nan\n",
    "    num = (t_rec['price']*t_rec['qty']).sum()\n",
    "    #print num\n",
    "    den = t_rec['qty'].sum()\n",
    "    #print den\n",
    "    if den == 0:\n",
    "        #print 'denominator null'\n",
    "        return np.nan\n",
    "    vwsp = num/den\n",
    "    return vwsp"
   ]
  },
  {
   "cell_type": "code",
   "execution_count": 49,
   "metadata": {},
   "outputs": [
    {
     "name": "stdout",
     "output_type": "stream",
     "text": [
      "2018-05-26 14:56:09.081625\n",
      "0 days 00:15:00\n",
      "                        date stock_index  qty buy/sell  price\n",
      "0 2018-05-26 14:55:13.704518         JOE  100     sell  250.0\n",
      "1 2018-05-26 14:55:16.617846         JOE  100     sell  250.0\n",
      "2 2018-05-26 14:55:16.627014         JOE  100      buy  250.0\n",
      "75000.0\n",
      "300\n"
     ]
    },
    {
     "data": {
      "text/plain": [
       "250.0"
      ]
     },
     "execution_count": 49,
     "metadata": {},
     "output_type": "execute_result"
    }
   ],
   "source": [
    "volume_weighted_stock_price(tr , 'JOE')"
   ]
  },
  {
   "cell_type": "code",
   "execution_count": 50,
   "metadata": {},
   "outputs": [
    {
     "name": "stdout",
     "output_type": "stream",
     "text": [
      "2018-05-26 14:56:12.699080\n",
      "0 days 06:00:00\n",
      "                        date stock_index  qty buy/sell  price\n",
      "0 2018-05-26 14:55:13.704518         JOE  100     sell  250.0\n",
      "1 2018-05-26 14:55:16.617846         JOE  100     sell  250.0\n",
      "2 2018-05-26 14:55:16.627014         JOE  100      buy  250.0\n",
      "75000.0\n",
      "300\n"
     ]
    },
    {
     "data": {
      "text/plain": [
       "250.0"
      ]
     },
     "execution_count": 50,
     "metadata": {},
     "output_type": "execute_result"
    }
   ],
   "source": [
    "volume_weighted_stock_price(tr , 'JOE', min_delta='360 min')"
   ]
  },
  {
   "cell_type": "code",
   "execution_count": 51,
   "metadata": {},
   "outputs": [
    {
     "name": "stdout",
     "output_type": "stream",
     "text": [
      "2018-05-26 14:56:15.588651\n",
      "0 days 06:00:00\n",
      "                        date stock_index  qty buy/sell  price\n",
      "4 2018-05-26 14:55:16.638400         ALE  200      buy  150.0\n",
      "6 2018-05-26 14:55:28.011853         ALE  150     sell   50.0\n",
      "7 2018-05-26 14:55:28.021738         ALE  300     sell  100.0\n",
      "67500.0\n",
      "650\n"
     ]
    },
    {
     "data": {
      "text/plain": [
       "103.84615384615384"
      ]
     },
     "execution_count": 51,
     "metadata": {},
     "output_type": "execute_result"
    }
   ],
   "source": [
    "volume_weighted_stock_price(tr , 'ALE', min_delta='360 min')"
   ]
  },
  {
   "cell_type": "markdown",
   "metadata": {},
   "source": [
    "**Question b.**"
   ]
  },
  {
   "cell_type": "markdown",
   "metadata": {},
   "source": [
    "For the geometric average I did the average of the logarithms and applied \n",
    "the exponentiation. \n",
    "If the number of values in the list is 0 the value returned is 1. \n",
    "Values should be strictly positive."
   ]
  },
  {
   "cell_type": "code",
   "execution_count": 52,
   "metadata": {},
   "outputs": [],
   "source": [
    "import math\n",
    "def  geometric_mean(arr):\n",
    "    gm = 0\n",
    "    n = 0\n",
    "    for pr in arr:\n",
    "        n = n + 1\n",
    "        gm = gm + math.log(pr)\n",
    "    if (n == 0):\n",
    "        return 1.     \n",
    "    return math.exp(gm/n)           "
   ]
  },
  {
   "cell_type": "code",
   "execution_count": 53,
   "metadata": {},
   "outputs": [
    {
     "data": {
      "text/plain": [
       "1.0"
      ]
     },
     "execution_count": 53,
     "metadata": {},
     "output_type": "execute_result"
    }
   ],
   "source": [
    "geometric_mean([1])"
   ]
  },
  {
   "cell_type": "code",
   "execution_count": 54,
   "metadata": {},
   "outputs": [
    {
     "data": {
      "text/plain": [
       "1.0"
      ]
     },
     "execution_count": 54,
     "metadata": {},
     "output_type": "execute_result"
    }
   ],
   "source": [
    "geometric_mean([])"
   ]
  },
  {
   "cell_type": "code",
   "execution_count": 55,
   "metadata": {},
   "outputs": [
    {
     "data": {
      "text/plain": [
       "1.414213562373095"
      ]
     },
     "execution_count": 55,
     "metadata": {},
     "output_type": "execute_result"
    }
   ],
   "source": [
    "geometric_mean([1,2])"
   ]
  },
  {
   "cell_type": "code",
   "execution_count": 227,
   "metadata": {},
   "outputs": [
    {
     "data": {
      "text/plain": [
       "2.0"
      ]
     },
     "execution_count": 227,
     "metadata": {},
     "output_type": "execute_result"
    }
   ],
   "source": [
    "geometric_mean([1,2,4])"
   ]
  },
  {
   "cell_type": "code",
   "execution_count": 56,
   "metadata": {},
   "outputs": [
    {
     "data": {
      "text/plain": [
       "41.7407037574964"
      ]
     },
     "execution_count": 56,
     "metadata": {},
     "output_type": "execute_result"
    }
   ],
   "source": [
    "geometric_mean([34., 56., 76., 23., 45., 22.,67.])"
   ]
  },
  {
   "cell_type": "markdown",
   "metadata": {},
   "source": [
    "I am not sure that I understand question b. and the definition of the GBCE All Share Index."
   ]
  },
  {
   "cell_type": "markdown",
   "metadata": {},
   "source": [
    "I can simply compute the geometric means of all stocks (their prices being\n",
    "given by a.iv.). But I admit that this figure does make much sense to me.                                                        "
   ]
  },
  {
   "cell_type": "markdown",
   "metadata": {},
   "source": [
    "**I am not sure that I understand question b. and the definition of the GBCE All Share Index.**\n",
    "I can simply compute the geometric means of all stocks (their prices being given by a.iv.). \n",
    "But I admit that this figure does make much sense to me."
   ]
  },
  {
   "cell_type": "code",
   "execution_count": 66,
   "metadata": {},
   "outputs": [
    {
     "data": {
      "text/plain": [
       "Index([u'TEA', u'ALE', u'JOE', u'POP', u'GIN'], dtype='object')"
      ]
     },
     "execution_count": 66,
     "metadata": {},
     "output_type": "execute_result"
    }
   ],
   "source": [
    "stock.index"
   ]
  },
  {
   "cell_type": "code",
   "execution_count": 72,
   "metadata": {},
   "outputs": [],
   "source": [
    "stock_indexes = stock.index.values"
   ]
  },
  {
   "cell_type": "code",
   "execution_count": 78,
   "metadata": {},
   "outputs": [
    {
     "data": {
      "text/plain": [
       "array(['TEA', 'ALE', 'JOE', 'POP', 'GIN'], dtype=object)"
      ]
     },
     "execution_count": 78,
     "metadata": {},
     "output_type": "execute_result"
    }
   ],
   "source": [
    "stock_indexes"
   ]
  },
  {
   "cell_type": "code",
   "execution_count": 76,
   "metadata": {},
   "outputs": [],
   "source": [
    "arr2 = [volume_weighted_stock_price(tr , stock_index, min_delta='360 min') for stock_index in stock_indexes]"
   ]
  },
  {
   "cell_type": "code",
   "execution_count": 77,
   "metadata": {},
   "outputs": [
    {
     "data": {
      "text/plain": [
       "nan"
      ]
     },
     "execution_count": 77,
     "metadata": {},
     "output_type": "execute_result"
    }
   ],
   "source": [
    "geometric_mean(arr2)"
   ]
  },
  {
   "cell_type": "code",
   "execution_count": 79,
   "metadata": {},
   "outputs": [],
   "source": [
    "tr = add_trade(tr, 'GIN', 200, 'sell', 75.)\n",
    "tr = add_trade(tr, 'TEA', 300, 'sell', 125.)\n",
    "tr = add_trade(tr, 'POP', 300, 'sell', 300.)"
   ]
  },
  {
   "cell_type": "code",
   "execution_count": 80,
   "metadata": {},
   "outputs": [
    {
     "data": {
      "text/html": [
       "<div>\n",
       "<style scoped>\n",
       "    .dataframe tbody tr th:only-of-type {\n",
       "        vertical-align: middle;\n",
       "    }\n",
       "\n",
       "    .dataframe tbody tr th {\n",
       "        vertical-align: top;\n",
       "    }\n",
       "\n",
       "    .dataframe thead th {\n",
       "        text-align: right;\n",
       "    }\n",
       "</style>\n",
       "<table border=\"1\" class=\"dataframe\">\n",
       "  <thead>\n",
       "    <tr style=\"text-align: right;\">\n",
       "      <th></th>\n",
       "      <th>date</th>\n",
       "      <th>stock_index</th>\n",
       "      <th>qty</th>\n",
       "      <th>buy/sell</th>\n",
       "      <th>price</th>\n",
       "    </tr>\n",
       "  </thead>\n",
       "  <tbody>\n",
       "    <tr>\n",
       "      <th>0</th>\n",
       "      <td>2018-05-26 14:55:13.704518</td>\n",
       "      <td>JOE</td>\n",
       "      <td>100</td>\n",
       "      <td>sell</td>\n",
       "      <td>250.0</td>\n",
       "    </tr>\n",
       "    <tr>\n",
       "      <th>1</th>\n",
       "      <td>2018-05-26 14:55:16.617846</td>\n",
       "      <td>JOE</td>\n",
       "      <td>100</td>\n",
       "      <td>sell</td>\n",
       "      <td>250.0</td>\n",
       "    </tr>\n",
       "    <tr>\n",
       "      <th>2</th>\n",
       "      <td>2018-05-26 14:55:16.627014</td>\n",
       "      <td>JOE</td>\n",
       "      <td>100</td>\n",
       "      <td>buy</td>\n",
       "      <td>250.0</td>\n",
       "    </tr>\n",
       "    <tr>\n",
       "      <th>3</th>\n",
       "      <td>2018-05-26 14:55:16.634000</td>\n",
       "      <td>GIN</td>\n",
       "      <td>200</td>\n",
       "      <td>buy</td>\n",
       "      <td>50.0</td>\n",
       "    </tr>\n",
       "    <tr>\n",
       "      <th>4</th>\n",
       "      <td>2018-05-26 14:55:16.638400</td>\n",
       "      <td>ALE</td>\n",
       "      <td>200</td>\n",
       "      <td>buy</td>\n",
       "      <td>150.0</td>\n",
       "    </tr>\n",
       "    <tr>\n",
       "      <th>5</th>\n",
       "      <td>2017-01-01 12:59:03.000000</td>\n",
       "      <td>ALE</td>\n",
       "      <td>200</td>\n",
       "      <td>sell</td>\n",
       "      <td>150.0</td>\n",
       "    </tr>\n",
       "    <tr>\n",
       "      <th>6</th>\n",
       "      <td>2018-05-26 14:55:28.011853</td>\n",
       "      <td>ALE</td>\n",
       "      <td>150</td>\n",
       "      <td>sell</td>\n",
       "      <td>50.0</td>\n",
       "    </tr>\n",
       "    <tr>\n",
       "      <th>7</th>\n",
       "      <td>2018-05-26 14:55:28.021738</td>\n",
       "      <td>ALE</td>\n",
       "      <td>300</td>\n",
       "      <td>sell</td>\n",
       "      <td>100.0</td>\n",
       "    </tr>\n",
       "    <tr>\n",
       "      <th>8</th>\n",
       "      <td>2018-05-26 16:05:10.465405</td>\n",
       "      <td>GIN</td>\n",
       "      <td>200</td>\n",
       "      <td>sell</td>\n",
       "      <td>75.0</td>\n",
       "    </tr>\n",
       "    <tr>\n",
       "      <th>9</th>\n",
       "      <td>2018-05-26 16:05:10.474386</td>\n",
       "      <td>TEA</td>\n",
       "      <td>300</td>\n",
       "      <td>sell</td>\n",
       "      <td>125.0</td>\n",
       "    </tr>\n",
       "    <tr>\n",
       "      <th>10</th>\n",
       "      <td>2018-05-26 16:05:10.482794</td>\n",
       "      <td>POP</td>\n",
       "      <td>300</td>\n",
       "      <td>sell</td>\n",
       "      <td>300.0</td>\n",
       "    </tr>\n",
       "  </tbody>\n",
       "</table>\n",
       "</div>"
      ],
      "text/plain": [
       "                         date stock_index  qty buy/sell  price\n",
       "0  2018-05-26 14:55:13.704518         JOE  100     sell  250.0\n",
       "1  2018-05-26 14:55:16.617846         JOE  100     sell  250.0\n",
       "2  2018-05-26 14:55:16.627014         JOE  100      buy  250.0\n",
       "3  2018-05-26 14:55:16.634000         GIN  200      buy   50.0\n",
       "4  2018-05-26 14:55:16.638400         ALE  200      buy  150.0\n",
       "5  2017-01-01 12:59:03.000000         ALE  200     sell  150.0\n",
       "6  2018-05-26 14:55:28.011853         ALE  150     sell   50.0\n",
       "7  2018-05-26 14:55:28.021738         ALE  300     sell  100.0\n",
       "8  2018-05-26 16:05:10.465405         GIN  200     sell   75.0\n",
       "9  2018-05-26 16:05:10.474386         TEA  300     sell  125.0\n",
       "10 2018-05-26 16:05:10.482794         POP  300     sell  300.0"
      ]
     },
     "execution_count": 80,
     "metadata": {},
     "output_type": "execute_result"
    }
   ],
   "source": [
    "tr"
   ]
  },
  {
   "cell_type": "markdown",
   "metadata": {},
   "source": [
    "A function computing the geometric mean of all stock prices..."
   ]
  },
  {
   "cell_type": "code",
   "execution_count": 84,
   "metadata": {},
   "outputs": [],
   "source": [
    "def GBCE(stock_list,trade_list):\n",
    "    stock_indexes = stock_list.index.values\n",
    "    arr = [volume_weighted_stock_price(trade_list , i, min_delta='360 min') for i in stock_indexes]\n",
    "    return geometric_mean(arr)"
   ]
  },
  {
   "cell_type": "code",
   "execution_count": 85,
   "metadata": {},
   "outputs": [
    {
     "data": {
      "text/plain": [
       "143.4988240089921"
      ]
     },
     "execution_count": 85,
     "metadata": {},
     "output_type": "execute_result"
    }
   ],
   "source": [
    "GBCE(stock,tr)"
   ]
  },
  {
   "cell_type": "code",
   "execution_count": null,
   "metadata": {},
   "outputs": [],
   "source": []
  }
 ],
 "metadata": {
  "kernelspec": {
   "display_name": "Python 2",
   "language": "python",
   "name": "python2"
  },
  "language_info": {
   "codemirror_mode": {
    "name": "ipython",
    "version": 2
   },
   "file_extension": ".py",
   "mimetype": "text/x-python",
   "name": "python",
   "nbconvert_exporter": "python",
   "pygments_lexer": "ipython2",
   "version": "2.7.14"
  }
 },
 "nbformat": 4,
 "nbformat_minor": 2
}
